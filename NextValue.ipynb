{
 "metadata": {
  "language_info": {
   "codemirror_mode": {
    "name": "ipython",
    "version": 3
   },
   "file_extension": ".py",
   "mimetype": "text/x-python",
   "name": "python",
   "nbconvert_exporter": "python",
   "pygments_lexer": "ipython3",
   "version": "3.8.5-final"
  },
  "orig_nbformat": 2,
  "kernelspec": {
   "name": "python38564bit570eb4d9acac4cec972dc88884398646",
   "display_name": "Python 3.8.5 64-bit"
  },
  "metadata": {
   "interpreter": {
    "hash": "31f2aee4e71d21fbe5cf8b01ff0e069b9275f58929596ceb00d14d90e3e16cd6"
   }
  }
 },
 "nbformat": 4,
 "nbformat_minor": 2,
 "cells": [
  {
   "source": [
    "# NextValue"
   ],
   "cell_type": "markdown",
   "metadata": {}
  },
  {
   "source": [
    "## Bibliotecas Necessárias"
   ],
   "cell_type": "markdown",
   "metadata": {}
  },
  {
   "cell_type": "code",
   "execution_count": 1,
   "metadata": {},
   "outputs": [],
   "source": [
    "import pandas as pd\n",
    "from os import listdir\n",
    "from os.path import isfile, join\n",
    "import numpy as np\n",
    "import math\n",
    "from sklearn.preprocessing import MinMaxScaler\n",
    "from keras.models import Sequential\n",
    "from keras.layers import Dense\n",
    "from keras.layers import LSTM\n",
    "from keras.layers import Dropout\n",
    "import matplotlib.pyplot as plt"
   ]
  },
  {
   "source": [
    "## Processamento dos Dados"
   ],
   "cell_type": "markdown",
   "metadata": {}
  },
  {
   "source": [
    "### Importando o Dataset"
   ],
   "cell_type": "markdown",
   "metadata": {}
  },
  {
   "source": [
    "A primeira coisa a se fazer é pegar os nomes dos arquivos que contém os valores das criptomoedas.\n",
    "\n",
    "Para adicionar uma nova criptomoeda, basta colocar o arquivo com os valores na pasta <b>Prices</b> e o código abaixo irá adicioná-lo na lista de arquivos."
   ],
   "cell_type": "markdown",
   "metadata": {}
  },
  {
   "cell_type": "code",
   "execution_count": 2,
   "metadata": {},
   "outputs": [],
   "source": [
    "DATA_PATH = \"./Prices\"\n",
    "\n",
    "dataset_list = [f for f in listdir(DATA_PATH) if (isfile(join(DATA_PATH, f)) and f.endswith(\".csv\"))]\n",
    "dataset_list.sort()"
   ]
  },
  {
   "source": [
    "### Dados Necessários"
   ],
   "cell_type": "markdown",
   "metadata": {}
  },
  {
   "source": [
    "<b>NUMBER_OF_CRYPTOCURRENCIES</b> é o número de criptomoedas diferentes que serão usadas. Esse valor será necessário algumas no código.\n",
    "\n",
    "<b>CRYPTOCURRENCY_INDEX</b> é usado no final do notebook para facilitar a visualização dos resultados pelo usuário (basta trocar o nome da criptomoeda que se deseja ver e o código cuidará do resto)."
   ],
   "cell_type": "markdown",
   "metadata": {}
  },
  {
   "cell_type": "code",
   "execution_count": 3,
   "metadata": {},
   "outputs": [],
   "source": [
    "NUMBER_OF_CRYPTOCURRENCIES = len(dataset_list)\n",
    "\n",
    "cryptocurrency_list = [d[:-4] for d in dataset_list]\n",
    "index = [i for i in range(NUMBER_OF_CRYPTOCURRENCIES)]\n",
    "\n",
    "CRYPTOCURRENCY_INDEX = dict(zip(cryptocurrency_list, index))"
   ]
  },
  {
   "source": [
    "### Juntando os datasets"
   ],
   "cell_type": "markdown",
   "metadata": {}
  },
  {
   "source": [
    "O código abaixo tem a função de pegar todos os arquivos e juntar as informações em uma única estrutura de dados chamada <b>dataset</b>. Cada linha é o valor da criptomoeda em um dia específico. Cada coluna é uma criptomoeda diferente.\n",
    "\n",
    "<b>dataset[d, c]</b> = <b>valor</b> da criptomoeda <b>c</b> no dia <b>d</b>.\n",
    "\n",
    "Algumas criptomoedas não existiam antes de determinada data, enquanto outras já existiam. Nesses casos, o valor da criptomoeda antes da sua criação é <b>US$ 0,00</b>."
   ],
   "cell_type": "markdown",
   "metadata": {}
  },
  {
   "cell_type": "code",
   "execution_count": 4,
   "metadata": {},
   "outputs": [],
   "source": [
    "dataset = pd.read_csv(DATA_PATH + \"/Bitcoin.csv\")\n",
    "dataset = dataset.iloc[:, 1:3]\n",
    "\n",
    "for i in range(0, NUMBER_OF_CRYPTOCURRENCIES):\n",
    "    file = pd.read_csv(DATA_PATH + \"/\" + dataset_list[i])\n",
    "    file = file.iloc[:, 1:3]\n",
    "    dataset = pd.merge(dataset, file, on='Date', how='outer')\n",
    "\n",
    "dataset = dataset.iloc[:, 2:NUMBER_OF_CRYPTOCURRENCIES+2]\n",
    "dataset = dataset.replace(np.nan, 0)"
   ]
  },
  {
   "source": [
    "### Dividindo o Dataset em TrainingSet e TestSet"
   ],
   "cell_type": "markdown",
   "metadata": {}
  },
  {
   "source": [
    "<b>NUMBER_OF_ROWS</b> é a quantidade de dias (ou seja, a quantidade de linhas) no dataset.\n",
    "\n",
    "<b>TRAINING_RATE</b> é o quanto do dataset será usado para treinar. Exemplo: Se o valor for 0.95, significa que 95% do dataset é para treino e 5% é para teste.\n",
    "\n",
    "<b>TRAINING_SET_SIZE</b> é a qunatidade de dias no conjunto de treino.\n",
    "\n",
    "<b>TEST_SET_SIZE</b> é a qunatidade de dias no conjunto de teste.\n"
   ],
   "cell_type": "markdown",
   "metadata": {}
  },
  {
   "cell_type": "code",
   "execution_count": 5,
   "metadata": {},
   "outputs": [],
   "source": [
    "NUMBER_OF_ROWS = dataset.shape[0]\n",
    "TRAINING_RATE = 0.95\n",
    "TRAINING_SET_SIZE = math.ceil(NUMBER_OF_ROWS*TRAINING_RATE)\n",
    "TEST_SET_SIZE = NUMBER_OF_ROWS - TRAINING_SET_SIZE\n",
    "\n",
    "training_set = dataset.iloc[:TRAINING_SET_SIZE, : ].values\n",
    "test_set = dataset.iloc[TRAINING_SET_SIZE:, : ].values"
   ]
  },
  {
   "source": [
    "### Feature Scaling"
   ],
   "cell_type": "markdown",
   "metadata": {}
  },
  {
   "source": [
    "Os valores 0 e 1 no feature_range servem para manter os valores transformados entre esses números."
   ],
   "cell_type": "markdown",
   "metadata": {}
  },
  {
   "cell_type": "code",
   "execution_count": 6,
   "metadata": {},
   "outputs": [],
   "source": [
    "sc = MinMaxScaler(feature_range = (0, 1))\n",
    "training_set_scaled = sc.fit_transform(training_set)"
   ]
  },
  {
   "source": [
    "### Construindo a Estrutura de Dados"
   ],
   "cell_type": "markdown",
   "metadata": {}
  },
  {
   "source": [
    "<b>DIAS_ANTERIORES</b> é a quantidade de dias que entram no cálculo para prever o valor do dia seguinte."
   ],
   "cell_type": "markdown",
   "metadata": {}
  },
  {
   "cell_type": "code",
   "execution_count": 7,
   "metadata": {},
   "outputs": [],
   "source": [
    "PREVIOUS_DAYS = 5\n",
    "\n",
    "X_train = []\n",
    "y_train = []\n",
    "for i in range(PREVIOUS_DAYS, TRAINING_SET_SIZE):\n",
    "    X_train.append(training_set_scaled[i-PREVIOUS_DAYS:i, 0:NUMBER_OF_CRYPTOCURRENCIES])\n",
    "    y_train.append(training_set_scaled[i, 0:NUMBER_OF_CRYPTOCURRENCIES])\n",
    "\n",
    "X_train, y_train = np.array(X_train), np.array(y_train)"
   ]
  },
  {
   "source": [
    "### Reshaping"
   ],
   "cell_type": "markdown",
   "metadata": {}
  },
  {
   "source": [
    "Muda a \"forma\" do dataset de treinamento, adicionando uma nova dimensão. A rede neural que será construída espera uma entrada com a forma abaixo.\n",
    "\n",
    "A forma 3D resultante é a seguinte:\n",
    "\n",
    "(Total de Dias, Dias Anteriores, Numero de Criptomoedas)"
   ],
   "cell_type": "markdown",
   "metadata": {}
  },
  {
   "cell_type": "code",
   "execution_count": 8,
   "metadata": {},
   "outputs": [],
   "source": [
    "X_train = X_train.reshape((X_train.shape[0], X_train.shape[1], NUMBER_OF_CRYPTOCURRENCIES))"
   ]
  },
  {
   "source": [
    "## Construindo a Rede Neural"
   ],
   "cell_type": "markdown",
   "metadata": {}
  },
  {
   "source": [
    "A rede neural será construída e treinada nas próximas etapas.\n",
    "\n",
    "As configurações atuais foram escolhidas com base em outras tentativas com outras configurações."
   ],
   "cell_type": "markdown",
   "metadata": {}
  },
  {
   "source": [
    "### Inicializando a Rede"
   ],
   "cell_type": "markdown",
   "metadata": {}
  },
  {
   "source": [
    "<b>UNITS</b> é a quantidade de neurônios"
   ],
   "cell_type": "markdown",
   "metadata": {}
  },
  {
   "cell_type": "code",
   "execution_count": 9,
   "metadata": {},
   "outputs": [],
   "source": [
    "UNITS = 300\n",
    "\n",
    "regressor = Sequential()"
   ]
  },
  {
   "source": [
    "### Adicionando a camada LSTM e Dropout"
   ],
   "cell_type": "markdown",
   "metadata": {}
  },
  {
   "source": [
    "A quantidade de neurônios e o dropout foram escolhidos após diversas tentativas com outros valores."
   ],
   "cell_type": "markdown",
   "metadata": {}
  },
  {
   "cell_type": "code",
   "execution_count": 10,
   "metadata": {},
   "outputs": [],
   "source": [
    "regressor.add(LSTM(units = UNITS, input_shape = (X_train.shape[1], NUMBER_OF_CRYPTOCURRENCIES)))\n",
    "regressor.add(Dropout(0.2))"
   ]
  },
  {
   "source": [
    "### Adicionando a camada de saída"
   ],
   "cell_type": "markdown",
   "metadata": {}
  },
  {
   "source": [
    "Já que haverá uma saída para cada criptomoeda, o número de saídas deve ser o mesmo de criptomoedas."
   ],
   "cell_type": "markdown",
   "metadata": {}
  },
  {
   "cell_type": "code",
   "execution_count": 11,
   "metadata": {},
   "outputs": [],
   "source": [
    "regressor.add(Dense(units = NUMBER_OF_CRYPTOCURRENCIES))"
   ]
  },
  {
   "source": [
    "### Compilando a Rede"
   ],
   "cell_type": "markdown",
   "metadata": {}
  },
  {
   "source": [
    "O otimizador e o loss foram escolhidos após diversas tentativas com outros valores."
   ],
   "cell_type": "markdown",
   "metadata": {}
  },
  {
   "cell_type": "code",
   "execution_count": 12,
   "metadata": {},
   "outputs": [],
   "source": [
    "regressor.compile(optimizer = 'adam', loss = 'mean_squared_error')"
   ]
  },
  {
   "source": [
    "## Treinando a Rede Neural"
   ],
   "cell_type": "markdown",
   "metadata": {}
  },
  {
   "source": [
    "Os epochs e o batch_size foram escolhidos após diversas tentativas com outros valores."
   ],
   "cell_type": "markdown",
   "metadata": {}
  },
  {
   "cell_type": "code",
   "execution_count": 13,
   "metadata": {
    "tags": [
     "outputPrepend"
    ]
   },
   "outputs": [
    {
     "output_type": "stream",
     "name": "stdout",
     "text": [
      "0\n",
      "28/28 [==============================] - 0s 17ms/step - loss: 7.5315e-04\n",
      "Epoch 71/300\n",
      "28/28 [==============================] - 0s 15ms/step - loss: 3.6470e-04\n",
      "Epoch 72/300\n",
      "28/28 [==============================] - 0s 16ms/step - loss: 5.1659e-04\n",
      "Epoch 73/300\n",
      "28/28 [==============================] - 0s 15ms/step - loss: 6.8967e-04\n",
      "Epoch 74/300\n",
      "28/28 [==============================] - 0s 15ms/step - loss: 6.6284e-04\n",
      "Epoch 75/300\n",
      "28/28 [==============================] - 0s 16ms/step - loss: 5.9869e-04\n",
      "Epoch 76/300\n",
      "28/28 [==============================] - 0s 16ms/step - loss: 3.9379e-04\n",
      "Epoch 77/300\n",
      "28/28 [==============================] - 0s 15ms/step - loss: 4.0686e-04\n",
      "Epoch 78/300\n",
      "28/28 [==============================] - 1s 19ms/step - loss: 6.6101e-04\n",
      "Epoch 79/300\n",
      "28/28 [==============================] - 0s 15ms/step - loss: 4.2428e-04\n",
      "Epoch 80/300\n",
      "28/28 [==============================] - 0s 17ms/step - loss: 6.6495e-04\n",
      "Epoch 81/300\n",
      "28/28 [==============================] - 0s 15ms/step - loss: 3.7626e-04\n",
      "Epoch 82/300\n",
      "28/28 [==============================] - 0s 15ms/step - loss: 4.4455e-04\n",
      "Epoch 83/300\n",
      "28/28 [==============================] - 0s 15ms/step - loss: 8.4556e-04\n",
      "Epoch 84/300\n",
      "28/28 [==============================] - 0s 15ms/step - loss: 7.1781e-04\n",
      "Epoch 85/300\n",
      "28/28 [==============================] - 0s 15ms/step - loss: 3.6017e-04\n",
      "Epoch 86/300\n",
      "28/28 [==============================] - 0s 15ms/step - loss: 6.1100e-04\n",
      "Epoch 87/300\n",
      "28/28 [==============================] - 0s 16ms/step - loss: 3.9926e-04\n",
      "Epoch 88/300\n",
      "28/28 [==============================] - 0s 18ms/step - loss: 5.9835e-04\n",
      "Epoch 89/300\n",
      "28/28 [==============================] - 1s 19ms/step - loss: 7.0439e-04\n",
      "Epoch 90/300\n",
      "28/28 [==============================] - 1s 19ms/step - loss: 4.4585e-04\n",
      "Epoch 91/300\n",
      "28/28 [==============================] - 1s 18ms/step - loss: 4.0779e-04\n",
      "Epoch 92/300\n",
      "28/28 [==============================] - 1s 19ms/step - loss: 4.2471e-04\n",
      "Epoch 93/300\n",
      "28/28 [==============================] - 1s 20ms/step - loss: 4.1664e-04\n",
      "Epoch 94/300\n",
      "28/28 [==============================] - 1s 20ms/step - loss: 6.2855e-04\n",
      "Epoch 95/300\n",
      "28/28 [==============================] - 0s 17ms/step - loss: 6.0638e-04\n",
      "Epoch 96/300\n",
      "28/28 [==============================] - 1s 18ms/step - loss: 5.2180e-04\n",
      "Epoch 97/300\n",
      "28/28 [==============================] - 0s 18ms/step - loss: 5.4947e-04\n",
      "Epoch 98/300\n",
      "28/28 [==============================] - 0s 17ms/step - loss: 5.6755e-04\n",
      "Epoch 99/300\n",
      "28/28 [==============================] - 0s 15ms/step - loss: 7.6141e-04\n",
      "Epoch 100/300\n",
      "28/28 [==============================] - 0s 15ms/step - loss: 5.0475e-04\n",
      "Epoch 101/300\n",
      "28/28 [==============================] - 0s 15ms/step - loss: 6.9353e-04\n",
      "Epoch 102/300\n",
      "28/28 [==============================] - 0s 14ms/step - loss: 6.7874e-04\n",
      "Epoch 103/300\n",
      "28/28 [==============================] - 0s 15ms/step - loss: 3.3025e-04\n",
      "Epoch 104/300\n",
      "28/28 [==============================] - 0s 15ms/step - loss: 4.3556e-04\n",
      "Epoch 105/300\n",
      "28/28 [==============================] - 0s 14ms/step - loss: 6.2431e-04\n",
      "Epoch 106/300\n",
      "28/28 [==============================] - 0s 14ms/step - loss: 4.2609e-04\n",
      "Epoch 107/300\n",
      "28/28 [==============================] - 0s 15ms/step - loss: 8.6526e-04\n",
      "Epoch 108/300\n",
      "28/28 [==============================] - 0s 14ms/step - loss: 7.7240e-04\n",
      "Epoch 109/300\n",
      "28/28 [==============================] - 0s 14ms/step - loss: 5.4449e-04\n",
      "Epoch 110/300\n",
      "28/28 [==============================] - 0s 15ms/step - loss: 4.3746e-04\n",
      "Epoch 111/300\n",
      "28/28 [==============================] - 0s 15ms/step - loss: 0.0011\n",
      "Epoch 112/300\n",
      "28/28 [==============================] - 0s 15ms/step - loss: 7.8575e-04\n",
      "Epoch 113/300\n",
      "28/28 [==============================] - 0s 14ms/step - loss: 3.7963e-04\n",
      "Epoch 114/300\n",
      "28/28 [==============================] - 0s 15ms/step - loss: 4.3011e-04\n",
      "Epoch 115/300\n",
      "28/28 [==============================] - 0s 15ms/step - loss: 4.4248e-04\n",
      "Epoch 116/300\n",
      "28/28 [==============================] - 0s 14ms/step - loss: 6.0582e-04\n",
      "Epoch 117/300\n",
      "28/28 [==============================] - 0s 15ms/step - loss: 9.2662e-04\n",
      "Epoch 118/300\n",
      "28/28 [==============================] - 0s 15ms/step - loss: 5.8612e-04\n",
      "Epoch 119/300\n",
      "28/28 [==============================] - 0s 14ms/step - loss: 4.1297e-04\n",
      "Epoch 120/300\n",
      "28/28 [==============================] - 0s 15ms/step - loss: 4.5679e-04\n",
      "Epoch 121/300\n",
      "28/28 [==============================] - 0s 16ms/step - loss: 0.0013\n",
      "Epoch 122/300\n",
      "28/28 [==============================] - 0s 15ms/step - loss: 5.5191e-04\n",
      "Epoch 123/300\n",
      "28/28 [==============================] - 0s 15ms/step - loss: 3.6967e-04\n",
      "Epoch 124/300\n",
      "28/28 [==============================] - 0s 16ms/step - loss: 7.5364e-04\n",
      "Epoch 125/300\n",
      "28/28 [==============================] - 0s 15ms/step - loss: 5.0228e-04\n",
      "Epoch 126/300\n",
      "28/28 [==============================] - 0s 15ms/step - loss: 7.1426e-04\n",
      "Epoch 127/300\n",
      "28/28 [==============================] - 0s 15ms/step - loss: 7.2822e-04\n",
      "Epoch 128/300\n",
      "28/28 [==============================] - 0s 14ms/step - loss: 5.4231e-04\n",
      "Epoch 129/300\n",
      "28/28 [==============================] - 0s 15ms/step - loss: 3.3428e-04\n",
      "Epoch 130/300\n",
      "28/28 [==============================] - 0s 14ms/step - loss: 4.1407e-04\n",
      "Epoch 131/300\n",
      "28/28 [==============================] - 0s 15ms/step - loss: 3.3814e-04\n",
      "Epoch 132/300\n",
      "28/28 [==============================] - 0s 15ms/step - loss: 4.0906e-04\n",
      "Epoch 133/300\n",
      "28/28 [==============================] - 0s 14ms/step - loss: 6.0354e-04\n",
      "Epoch 134/300\n",
      "28/28 [==============================] - 0s 15ms/step - loss: 3.3891e-04\n",
      "Epoch 135/300\n",
      "28/28 [==============================] - 0s 17ms/step - loss: 5.4006e-04\n",
      "Epoch 136/300\n",
      "28/28 [==============================] - 0s 16ms/step - loss: 7.4001e-04\n",
      "Epoch 137/300\n",
      "28/28 [==============================] - 0s 14ms/step - loss: 3.8717e-04\n",
      "Epoch 138/300\n",
      "28/28 [==============================] - 0s 15ms/step - loss: 7.3886e-04\n",
      "Epoch 139/300\n",
      "28/28 [==============================] - 0s 15ms/step - loss: 7.0557e-04\n",
      "Epoch 140/300\n",
      "28/28 [==============================] - 0s 15ms/step - loss: 4.1314e-04\n",
      "Epoch 141/300\n",
      "28/28 [==============================] - 0s 15ms/step - loss: 4.2228e-04\n",
      "Epoch 142/300\n",
      "28/28 [==============================] - 0s 14ms/step - loss: 5.8246e-04\n",
      "Epoch 143/300\n",
      "28/28 [==============================] - 0s 14ms/step - loss: 4.9844e-04\n",
      "Epoch 144/300\n",
      "28/28 [==============================] - 0s 15ms/step - loss: 8.6032e-04\n",
      "Epoch 145/300\n",
      "28/28 [==============================] - 0s 15ms/step - loss: 3.9149e-04\n",
      "Epoch 146/300\n",
      "28/28 [==============================] - 0s 15ms/step - loss: 8.3577e-04\n",
      "Epoch 147/300\n",
      "28/28 [==============================] - 0s 14ms/step - loss: 3.3368e-04\n",
      "Epoch 148/300\n",
      "28/28 [==============================] - 1s 18ms/step - loss: 6.3987e-04\n",
      "Epoch 149/300\n",
      "28/28 [==============================] - 0s 17ms/step - loss: 5.4152e-04\n",
      "Epoch 150/300\n",
      "28/28 [==============================] - 0s 16ms/step - loss: 0.0013\n",
      "Epoch 151/300\n",
      "28/28 [==============================] - 0s 16ms/step - loss: 6.2010e-04\n",
      "Epoch 152/300\n",
      "28/28 [==============================] - 0s 16ms/step - loss: 3.7948e-04\n",
      "Epoch 153/300\n",
      "28/28 [==============================] - 0s 16ms/step - loss: 3.4161e-04\n",
      "Epoch 154/300\n",
      "28/28 [==============================] - 0s 15ms/step - loss: 4.4441e-04\n",
      "Epoch 155/300\n",
      "28/28 [==============================] - 0s 15ms/step - loss: 5.7038e-04\n",
      "Epoch 156/300\n",
      "28/28 [==============================] - 0s 14ms/step - loss: 4.8071e-04\n",
      "Epoch 157/300\n",
      "28/28 [==============================] - 0s 14ms/step - loss: 3.1604e-04\n",
      "Epoch 158/300\n",
      "28/28 [==============================] - 0s 14ms/step - loss: 4.0604e-04\n",
      "Epoch 159/300\n",
      "28/28 [==============================] - 1s 21ms/step - loss: 0.0011\n",
      "Epoch 160/300\n",
      "28/28 [==============================] - 1s 18ms/step - loss: 7.8743e-04\n",
      "Epoch 161/300\n",
      "28/28 [==============================] - 0s 18ms/step - loss: 3.4476e-04\n",
      "Epoch 162/300\n",
      "28/28 [==============================] - 1s 19ms/step - loss: 4.0810e-04\n",
      "Epoch 163/300\n",
      "28/28 [==============================] - 0s 18ms/step - loss: 7.7991e-04\n",
      "Epoch 164/300\n",
      "28/28 [==============================] - 1s 19ms/step - loss: 3.5323e-04\n",
      "Epoch 165/300\n",
      "28/28 [==============================] - 1s 18ms/step - loss: 0.0010\n",
      "Epoch 166/300\n",
      "28/28 [==============================] - 0s 18ms/step - loss: 3.9074e-04\n",
      "Epoch 167/300\n",
      "28/28 [==============================] - 1s 18ms/step - loss: 9.2986e-04\n",
      "Epoch 168/300\n",
      "28/28 [==============================] - 0s 17ms/step - loss: 3.6899e-04\n",
      "Epoch 169/300\n",
      "28/28 [==============================] - 0s 15ms/step - loss: 3.3229e-04\n",
      "Epoch 170/300\n",
      "28/28 [==============================] - 0s 16ms/step - loss: 6.9684e-04\n",
      "Epoch 171/300\n",
      "28/28 [==============================] - 0s 17ms/step - loss: 0.0011\n",
      "Epoch 172/300\n",
      "28/28 [==============================] - 0s 16ms/step - loss: 9.1005e-04\n",
      "Epoch 173/300\n",
      "28/28 [==============================] - 0s 15ms/step - loss: 5.7613e-04\n",
      "Epoch 174/300\n",
      "28/28 [==============================] - 0s 14ms/step - loss: 4.1445e-04\n",
      "Epoch 175/300\n",
      "28/28 [==============================] - 0s 14ms/step - loss: 6.6046e-04\n",
      "Epoch 176/300\n",
      "28/28 [==============================] - 0s 14ms/step - loss: 4.9785e-04\n",
      "Epoch 177/300\n",
      "28/28 [==============================] - 0s 14ms/step - loss: 4.8046e-04\n",
      "Epoch 178/300\n",
      "28/28 [==============================] - 0s 14ms/step - loss: 5.1827e-04\n",
      "Epoch 179/300\n",
      "28/28 [==============================] - 0s 16ms/step - loss: 5.3551e-04\n",
      "Epoch 180/300\n",
      "28/28 [==============================] - 0s 17ms/step - loss: 5.1260e-04\n",
      "Epoch 181/300\n",
      "28/28 [==============================] - 0s 15ms/step - loss: 4.7638e-04\n",
      "Epoch 182/300\n",
      "28/28 [==============================] - 0s 15ms/step - loss: 9.0263e-04\n",
      "Epoch 183/300\n",
      "28/28 [==============================] - 0s 17ms/step - loss: 3.9762e-04\n",
      "Epoch 184/300\n",
      "28/28 [==============================] - 0s 14ms/step - loss: 4.2489e-04\n",
      "Epoch 185/300\n",
      "28/28 [==============================] - 0s 17ms/step - loss: 4.7088e-04\n",
      "Epoch 186/300\n",
      "28/28 [==============================] - 0s 16ms/step - loss: 4.9647e-04\n",
      "Epoch 187/300\n",
      "28/28 [==============================] - 0s 16ms/step - loss: 3.5919e-04\n",
      "Epoch 188/300\n",
      "28/28 [==============================] - 0s 17ms/step - loss: 5.8134e-04\n",
      "Epoch 189/300\n",
      "28/28 [==============================] - 0s 15ms/step - loss: 5.0627e-04\n",
      "Epoch 190/300\n",
      "28/28 [==============================] - 0s 14ms/step - loss: 0.0013\n",
      "Epoch 191/300\n",
      "28/28 [==============================] - 0s 15ms/step - loss: 3.2530e-04\n",
      "Epoch 192/300\n",
      "28/28 [==============================] - 0s 14ms/step - loss: 3.9774e-04\n",
      "Epoch 193/300\n",
      "28/28 [==============================] - 0s 15ms/step - loss: 0.0012\n",
      "Epoch 194/300\n",
      "28/28 [==============================] - 0s 14ms/step - loss: 6.5576e-04\n",
      "Epoch 195/300\n",
      "28/28 [==============================] - 0s 14ms/step - loss: 4.1359e-04\n",
      "Epoch 196/300\n",
      "28/28 [==============================] - 0s 15ms/step - loss: 4.3636e-04\n",
      "Epoch 197/300\n",
      "28/28 [==============================] - 0s 15ms/step - loss: 3.5280e-04\n",
      "Epoch 198/300\n",
      "28/28 [==============================] - 0s 15ms/step - loss: 0.0010\n",
      "Epoch 199/300\n",
      "28/28 [==============================] - 0s 15ms/step - loss: 4.4572e-04\n",
      "Epoch 200/300\n",
      "28/28 [==============================] - 0s 15ms/step - loss: 3.7114e-04\n",
      "Epoch 201/300\n",
      "28/28 [==============================] - 0s 14ms/step - loss: 4.8974e-04\n",
      "Epoch 202/300\n",
      "28/28 [==============================] - 0s 14ms/step - loss: 3.3656e-04\n",
      "Epoch 203/300\n",
      "28/28 [==============================] - 0s 15ms/step - loss: 3.5727e-04\n",
      "Epoch 204/300\n",
      "28/28 [==============================] - 0s 15ms/step - loss: 5.9820e-04\n",
      "Epoch 205/300\n",
      "28/28 [==============================] - 0s 15ms/step - loss: 5.4086e-04\n",
      "Epoch 206/300\n",
      "28/28 [==============================] - 0s 14ms/step - loss: 5.7281e-04\n",
      "Epoch 207/300\n",
      "28/28 [==============================] - 0s 17ms/step - loss: 8.2837e-04\n",
      "Epoch 208/300\n",
      "28/28 [==============================] - 0s 15ms/step - loss: 3.1721e-04\n",
      "Epoch 209/300\n",
      "28/28 [==============================] - 0s 15ms/step - loss: 4.5604e-04\n",
      "Epoch 210/300\n",
      "28/28 [==============================] - 0s 15ms/step - loss: 4.6142e-04\n",
      "Epoch 211/300\n",
      "28/28 [==============================] - 0s 15ms/step - loss: 4.6210e-04\n",
      "Epoch 212/300\n",
      "28/28 [==============================] - 0s 14ms/step - loss: 5.5756e-04\n",
      "Epoch 213/300\n",
      "28/28 [==============================] - 0s 14ms/step - loss: 4.8026e-04\n",
      "Epoch 214/300\n",
      "28/28 [==============================] - 0s 15ms/step - loss: 8.5054e-04\n",
      "Epoch 215/300\n",
      "28/28 [==============================] - 0s 15ms/step - loss: 0.0013\n",
      "Epoch 216/300\n",
      "28/28 [==============================] - 0s 14ms/step - loss: 3.3438e-04\n",
      "Epoch 217/300\n",
      "28/28 [==============================] - 0s 15ms/step - loss: 3.2390e-04\n",
      "Epoch 218/300\n",
      "28/28 [==============================] - 0s 14ms/step - loss: 5.9905e-04\n",
      "Epoch 219/300\n",
      "28/28 [==============================] - 0s 15ms/step - loss: 8.4923e-04\n",
      "Epoch 220/300\n",
      "28/28 [==============================] - 0s 14ms/step - loss: 3.6587e-04\n",
      "Epoch 221/300\n",
      "28/28 [==============================] - 0s 14ms/step - loss: 6.0775e-04\n",
      "Epoch 222/300\n",
      "28/28 [==============================] - 0s 15ms/step - loss: 4.3983e-04\n",
      "Epoch 223/300\n",
      "28/28 [==============================] - 0s 17ms/step - loss: 3.9745e-04\n",
      "Epoch 224/300\n",
      "28/28 [==============================] - 0s 16ms/step - loss: 3.4966e-04\n",
      "Epoch 225/300\n",
      "28/28 [==============================] - 0s 14ms/step - loss: 9.9458e-04\n",
      "Epoch 226/300\n",
      "28/28 [==============================] - 0s 15ms/step - loss: 8.2742e-04\n",
      "Epoch 227/300\n",
      "28/28 [==============================] - 0s 18ms/step - loss: 6.8189e-04\n",
      "Epoch 228/300\n",
      "28/28 [==============================] - 1s 18ms/step - loss: 4.0153e-04\n",
      "Epoch 229/300\n",
      "28/28 [==============================] - 0s 18ms/step - loss: 0.0013\n",
      "Epoch 230/300\n",
      "28/28 [==============================] - 1s 19ms/step - loss: 3.2983e-04\n",
      "Epoch 231/300\n",
      "28/28 [==============================] - 1s 18ms/step - loss: 3.4402e-04\n",
      "Epoch 232/300\n",
      "28/28 [==============================] - 1s 19ms/step - loss: 3.5911e-04\n",
      "Epoch 233/300\n",
      "28/28 [==============================] - 1s 19ms/step - loss: 5.9348e-04\n",
      "Epoch 234/300\n",
      "28/28 [==============================] - 1s 19ms/step - loss: 5.7256e-04\n",
      "Epoch 235/300\n",
      "28/28 [==============================] - 1s 19ms/step - loss: 3.9755e-04\n",
      "Epoch 236/300\n",
      "28/28 [==============================] - 1s 21ms/step - loss: 2.9227e-04\n",
      "Epoch 237/300\n",
      "28/28 [==============================] - 0s 15ms/step - loss: 2.9909e-04\n",
      "Epoch 238/300\n",
      "28/28 [==============================] - 0s 16ms/step - loss: 4.8508e-04\n",
      "Epoch 239/300\n",
      "28/28 [==============================] - 0s 15ms/step - loss: 9.3453e-04\n",
      "Epoch 240/300\n",
      "28/28 [==============================] - 0s 18ms/step - loss: 4.1635e-04\n",
      "Epoch 241/300\n",
      "28/28 [==============================] - 0s 16ms/step - loss: 6.5330e-04\n",
      "Epoch 242/300\n",
      "28/28 [==============================] - 1s 20ms/step - loss: 3.7502e-04\n",
      "Epoch 243/300\n",
      "28/28 [==============================] - 0s 17ms/step - loss: 3.3945e-04\n",
      "Epoch 244/300\n",
      "28/28 [==============================] - 0s 15ms/step - loss: 4.7349e-04\n",
      "Epoch 245/300\n",
      "28/28 [==============================] - 0s 14ms/step - loss: 4.4132e-04\n",
      "Epoch 246/300\n",
      "28/28 [==============================] - 0s 15ms/step - loss: 4.7106e-04\n",
      "Epoch 247/300\n",
      "28/28 [==============================] - 0s 16ms/step - loss: 5.9728e-04\n",
      "Epoch 248/300\n",
      "28/28 [==============================] - 0s 14ms/step - loss: 4.2633e-04\n",
      "Epoch 249/300\n",
      "28/28 [==============================] - 0s 14ms/step - loss: 4.4139e-04\n",
      "Epoch 250/300\n",
      "28/28 [==============================] - 0s 14ms/step - loss: 0.0010\n",
      "Epoch 251/300\n",
      "28/28 [==============================] - 0s 14ms/step - loss: 2.9259e-04\n",
      "Epoch 252/300\n",
      "28/28 [==============================] - 0s 14ms/step - loss: 5.1399e-04\n",
      "Epoch 253/300\n",
      "28/28 [==============================] - 0s 14ms/step - loss: 4.6258e-04\n",
      "Epoch 254/300\n",
      "28/28 [==============================] - 0s 14ms/step - loss: 3.0606e-04\n",
      "Epoch 255/300\n",
      "28/28 [==============================] - 0s 14ms/step - loss: 8.9881e-04\n",
      "Epoch 256/300\n",
      "28/28 [==============================] - 0s 16ms/step - loss: 3.5057e-04\n",
      "Epoch 257/300\n",
      "28/28 [==============================] - 0s 14ms/step - loss: 5.2204e-04\n",
      "Epoch 258/300\n",
      "28/28 [==============================] - 0s 17ms/step - loss: 3.5680e-04\n",
      "Epoch 259/300\n",
      "28/28 [==============================] - 0s 15ms/step - loss: 3.1800e-04\n",
      "Epoch 260/300\n",
      "28/28 [==============================] - 0s 15ms/step - loss: 7.4893e-04\n",
      "Epoch 261/300\n",
      "28/28 [==============================] - 0s 14ms/step - loss: 5.1994e-04\n",
      "Epoch 262/300\n",
      "28/28 [==============================] - 0s 15ms/step - loss: 4.2092e-04\n",
      "Epoch 263/300\n",
      "28/28 [==============================] - 0s 14ms/step - loss: 5.8581e-04\n",
      "Epoch 264/300\n",
      "28/28 [==============================] - 0s 14ms/step - loss: 4.6704e-04\n",
      "Epoch 265/300\n",
      "28/28 [==============================] - 0s 14ms/step - loss: 4.5501e-04\n",
      "Epoch 266/300\n",
      "28/28 [==============================] - 0s 14ms/step - loss: 3.9062e-04\n",
      "Epoch 267/300\n",
      "28/28 [==============================] - 0s 15ms/step - loss: 5.8413e-04\n",
      "Epoch 268/300\n",
      "28/28 [==============================] - 0s 14ms/step - loss: 5.9494e-04\n",
      "Epoch 269/300\n",
      "28/28 [==============================] - 0s 14ms/step - loss: 2.9104e-04\n",
      "Epoch 270/300\n",
      "28/28 [==============================] - 0s 15ms/step - loss: 4.2659e-04\n",
      "Epoch 271/300\n",
      "28/28 [==============================] - 0s 15ms/step - loss: 3.4918e-04\n",
      "Epoch 272/300\n",
      "28/28 [==============================] - 0s 15ms/step - loss: 8.7210e-04\n",
      "Epoch 273/300\n",
      "28/28 [==============================] - 0s 15ms/step - loss: 3.6771e-04\n",
      "Epoch 274/300\n",
      "28/28 [==============================] - 0s 14ms/step - loss: 4.6042e-04\n",
      "Epoch 275/300\n",
      "28/28 [==============================] - 0s 14ms/step - loss: 3.5750e-04\n",
      "Epoch 276/300\n",
      "28/28 [==============================] - 0s 15ms/step - loss: 0.0010\n",
      "Epoch 277/300\n",
      "28/28 [==============================] - 0s 15ms/step - loss: 6.8543e-04\n",
      "Epoch 278/300\n",
      "28/28 [==============================] - 0s 14ms/step - loss: 3.5941e-04\n",
      "Epoch 279/300\n",
      "28/28 [==============================] - 0s 14ms/step - loss: 6.6795e-04\n",
      "Epoch 280/300\n",
      "28/28 [==============================] - 0s 14ms/step - loss: 7.5126e-04\n",
      "Epoch 281/300\n",
      "28/28 [==============================] - 0s 14ms/step - loss: 4.1832e-04\n",
      "Epoch 282/300\n",
      "28/28 [==============================] - 0s 14ms/step - loss: 3.0949e-04\n",
      "Epoch 283/300\n",
      "28/28 [==============================] - 0s 14ms/step - loss: 5.3984e-04\n",
      "Epoch 284/300\n",
      "28/28 [==============================] - 0s 15ms/step - loss: 0.0013\n",
      "Epoch 285/300\n",
      "28/28 [==============================] - 0s 14ms/step - loss: 4.3037e-04\n",
      "Epoch 286/300\n",
      "28/28 [==============================] - 0s 14ms/step - loss: 3.4153e-04\n",
      "Epoch 287/300\n",
      "28/28 [==============================] - 0s 15ms/step - loss: 3.2267e-04\n",
      "Epoch 288/300\n",
      "28/28 [==============================] - 0s 14ms/step - loss: 4.8162e-04\n",
      "Epoch 289/300\n",
      "28/28 [==============================] - 0s 17ms/step - loss: 3.3798e-04\n",
      "Epoch 290/300\n",
      "28/28 [==============================] - 0s 14ms/step - loss: 3.7430e-04\n",
      "Epoch 291/300\n",
      "28/28 [==============================] - 0s 15ms/step - loss: 7.4050e-04\n",
      "Epoch 292/300\n",
      "28/28 [==============================] - 0s 14ms/step - loss: 5.8260e-04\n",
      "Epoch 293/300\n",
      "28/28 [==============================] - 0s 14ms/step - loss: 2.7378e-04\n",
      "Epoch 294/300\n",
      "28/28 [==============================] - 0s 14ms/step - loss: 6.2450e-04\n",
      "Epoch 295/300\n",
      "28/28 [==============================] - 0s 14ms/step - loss: 6.5015e-04\n",
      "Epoch 296/300\n",
      "28/28 [==============================] - 0s 15ms/step - loss: 7.2640e-04\n",
      "Epoch 297/300\n",
      "28/28 [==============================] - 0s 16ms/step - loss: 3.0497e-04\n",
      "Epoch 298/300\n",
      "28/28 [==============================] - 0s 17ms/step - loss: 3.1329e-04\n",
      "Epoch 299/300\n",
      "28/28 [==============================] - 0s 18ms/step - loss: 5.3402e-04\n",
      "Epoch 300/300\n",
      "28/28 [==============================] - 0s 18ms/step - loss: 5.8639e-04\n"
     ]
    },
    {
     "output_type": "execute_result",
     "data": {
      "text/plain": [
       "<tensorflow.python.keras.callbacks.History at 0x7f3b505d1280>"
      ]
     },
     "metadata": {},
     "execution_count": 13
    }
   ],
   "source": [
    "regressor.fit(X_train, y_train, epochs = 300, batch_size = 96)"
   ]
  },
  {
   "source": [
    "## Testando a Rede Neural"
   ],
   "cell_type": "markdown",
   "metadata": {}
  },
  {
   "source": [
    "Prepara o dataset de teste para que a rede faça a previsão dos preços das criptomoedas."
   ],
   "cell_type": "markdown",
   "metadata": {}
  },
  {
   "cell_type": "code",
   "execution_count": 14,
   "metadata": {},
   "outputs": [],
   "source": [
    "inputs = dataset[TRAINING_SET_SIZE-PREVIOUS_DAYS:].values\n",
    "inputs = inputs.reshape((inputs.shape[0], inputs.shape[1]))\n",
    "inputs = sc.transform(inputs)\n",
    "\n",
    "X_test = []\n",
    "for i in range(PREVIOUS_DAYS, PREVIOUS_DAYS+TEST_SET_SIZE):\n",
    "  X_test.append(inputs[i-PREVIOUS_DAYS:i, 0:NUMBER_OF_CRYPTOCURRENCIES])\n",
    "\n",
    "X_test = np.array(X_test)\n",
    "X_test = np.reshape(X_test, (X_test.shape[0], X_test.shape[1], NUMBER_OF_CRYPTOCURRENCIES))\n",
    "\n",
    "predict = regressor.predict(X_test)\n",
    "predict = sc.inverse_transform(predict)"
   ]
  },
  {
   "source": [
    "## Visualizando os Resultados"
   ],
   "cell_type": "markdown",
   "metadata": {}
  },
  {
   "source": [
    "Mostra um gráfico comparando os valores previstos pela rede neural e o valor verdadeiro.\n",
    "\n",
    "Para trocar a criptomoeda, basta trocar o nome dela abaixo."
   ],
   "cell_type": "markdown",
   "metadata": {}
  },
  {
   "cell_type": "code",
   "execution_count": 15,
   "metadata": {},
   "outputs": [
    {
     "output_type": "display_data",
     "data": {
      "text/plain": "<Figure size 432x288 with 1 Axes>",
      "image/svg+xml": "<?xml version=\"1.0\" encoding=\"utf-8\" standalone=\"no\"?>\n<!DOCTYPE svg PUBLIC \"-//W3C//DTD SVG 1.1//EN\"\n  \"http://www.w3.org/Graphics/SVG/1.1/DTD/svg11.dtd\">\n<!-- Created with matplotlib (https://matplotlib.org/) -->\n<svg height=\"277.314375pt\" version=\"1.1\" viewBox=\"0 0 404.968065 277.314375\" width=\"404.968065pt\" xmlns=\"http://www.w3.org/2000/svg\" xmlns:xlink=\"http://www.w3.org/1999/xlink\">\n <metadata>\n  <rdf:RDF xmlns:cc=\"http://creativecommons.org/ns#\" xmlns:dc=\"http://purl.org/dc/elements/1.1/\" xmlns:rdf=\"http://www.w3.org/1999/02/22-rdf-syntax-ns#\">\n   <cc:Work>\n    <dc:type rdf:resource=\"http://purl.org/dc/dcmitype/StillImage\"/>\n    <dc:date>2021-04-20T19:17:33.350411</dc:date>\n    <dc:format>image/svg+xml</dc:format>\n    <dc:creator>\n     <cc:Agent>\n      <dc:title>Matplotlib v3.3.4, https://matplotlib.org/</dc:title>\n     </cc:Agent>\n    </dc:creator>\n   </cc:Work>\n  </rdf:RDF>\n </metadata>\n <defs>\n  <style type=\"text/css\">*{stroke-linecap:butt;stroke-linejoin:round;}</style>\n </defs>\n <g id=\"figure_1\">\n  <g id=\"patch_1\">\n   <path d=\"M 0 277.314375 \nL 404.968065 277.314375 \nL 404.968065 0 \nL 0 0 \nz\n\" style=\"fill:none;\"/>\n  </g>\n  <g id=\"axes_1\">\n   <g id=\"patch_2\">\n    <path d=\"M 59.690625 239.758125 \nL 394.490625 239.758125 \nL 394.490625 22.318125 \nL 59.690625 22.318125 \nz\n\" style=\"fill:#ffffff;\"/>\n   </g>\n   <g id=\"matplotlib.axis_1\">\n    <g id=\"xtick_1\">\n     <g id=\"line2d_1\">\n      <defs>\n       <path d=\"M 0 0 \nL 0 3.5 \n\" id=\"mccb6587e87\" style=\"stroke:#000000;stroke-width:0.8;\"/>\n      </defs>\n      <g>\n       <use style=\"stroke:#000000;stroke-width:0.8;\" x=\"74.908807\" xlink:href=\"#mccb6587e87\" y=\"239.758125\"/>\n      </g>\n     </g>\n     <g id=\"text_1\">\n      <!-- 0 -->\n      <g transform=\"translate(71.727557 254.356562)scale(0.1 -0.1)\">\n       <defs>\n        <path d=\"M 31.78125 66.40625 \nQ 24.171875 66.40625 20.328125 58.90625 \nQ 16.5 51.421875 16.5 36.375 \nQ 16.5 21.390625 20.328125 13.890625 \nQ 24.171875 6.390625 31.78125 6.390625 \nQ 39.453125 6.390625 43.28125 13.890625 \nQ 47.125 21.390625 47.125 36.375 \nQ 47.125 51.421875 43.28125 58.90625 \nQ 39.453125 66.40625 31.78125 66.40625 \nz\nM 31.78125 74.21875 \nQ 44.046875 74.21875 50.515625 64.515625 \nQ 56.984375 54.828125 56.984375 36.375 \nQ 56.984375 17.96875 50.515625 8.265625 \nQ 44.046875 -1.421875 31.78125 -1.421875 \nQ 19.53125 -1.421875 13.0625 8.265625 \nQ 6.59375 17.96875 6.59375 36.375 \nQ 6.59375 54.828125 13.0625 64.515625 \nQ 19.53125 74.21875 31.78125 74.21875 \nz\n\" id=\"DejaVuSans-48\"/>\n       </defs>\n       <use xlink:href=\"#DejaVuSans-48\"/>\n      </g>\n     </g>\n    </g>\n    <g id=\"xtick_2\">\n     <g id=\"line2d_2\">\n      <g>\n       <use style=\"stroke:#000000;stroke-width:0.8;\" x=\"119.668165\" xlink:href=\"#mccb6587e87\" y=\"239.758125\"/>\n      </g>\n     </g>\n     <g id=\"text_2\">\n      <!-- 20 -->\n      <g transform=\"translate(113.305665 254.356562)scale(0.1 -0.1)\">\n       <defs>\n        <path d=\"M 19.1875 8.296875 \nL 53.609375 8.296875 \nL 53.609375 0 \nL 7.328125 0 \nL 7.328125 8.296875 \nQ 12.9375 14.109375 22.625 23.890625 \nQ 32.328125 33.6875 34.8125 36.53125 \nQ 39.546875 41.84375 41.421875 45.53125 \nQ 43.3125 49.21875 43.3125 52.78125 \nQ 43.3125 58.59375 39.234375 62.25 \nQ 35.15625 65.921875 28.609375 65.921875 \nQ 23.96875 65.921875 18.8125 64.3125 \nQ 13.671875 62.703125 7.8125 59.421875 \nL 7.8125 69.390625 \nQ 13.765625 71.78125 18.9375 73 \nQ 24.125 74.21875 28.421875 74.21875 \nQ 39.75 74.21875 46.484375 68.546875 \nQ 53.21875 62.890625 53.21875 53.421875 \nQ 53.21875 48.921875 51.53125 44.890625 \nQ 49.859375 40.875 45.40625 35.40625 \nQ 44.1875 33.984375 37.640625 27.21875 \nQ 31.109375 20.453125 19.1875 8.296875 \nz\n\" id=\"DejaVuSans-50\"/>\n       </defs>\n       <use xlink:href=\"#DejaVuSans-50\"/>\n       <use x=\"63.623047\" xlink:href=\"#DejaVuSans-48\"/>\n      </g>\n     </g>\n    </g>\n    <g id=\"xtick_3\">\n     <g id=\"line2d_3\">\n      <g>\n       <use style=\"stroke:#000000;stroke-width:0.8;\" x=\"164.427523\" xlink:href=\"#mccb6587e87\" y=\"239.758125\"/>\n      </g>\n     </g>\n     <g id=\"text_3\">\n      <!-- 40 -->\n      <g transform=\"translate(158.065023 254.356562)scale(0.1 -0.1)\">\n       <defs>\n        <path d=\"M 37.796875 64.3125 \nL 12.890625 25.390625 \nL 37.796875 25.390625 \nz\nM 35.203125 72.90625 \nL 47.609375 72.90625 \nL 47.609375 25.390625 \nL 58.015625 25.390625 \nL 58.015625 17.1875 \nL 47.609375 17.1875 \nL 47.609375 0 \nL 37.796875 0 \nL 37.796875 17.1875 \nL 4.890625 17.1875 \nL 4.890625 26.703125 \nz\n\" id=\"DejaVuSans-52\"/>\n       </defs>\n       <use xlink:href=\"#DejaVuSans-52\"/>\n       <use x=\"63.623047\" xlink:href=\"#DejaVuSans-48\"/>\n      </g>\n     </g>\n    </g>\n    <g id=\"xtick_4\">\n     <g id=\"line2d_4\">\n      <g>\n       <use style=\"stroke:#000000;stroke-width:0.8;\" x=\"209.186882\" xlink:href=\"#mccb6587e87\" y=\"239.758125\"/>\n      </g>\n     </g>\n     <g id=\"text_4\">\n      <!-- 60 -->\n      <g transform=\"translate(202.824382 254.356562)scale(0.1 -0.1)\">\n       <defs>\n        <path d=\"M 33.015625 40.375 \nQ 26.375 40.375 22.484375 35.828125 \nQ 18.609375 31.296875 18.609375 23.390625 \nQ 18.609375 15.53125 22.484375 10.953125 \nQ 26.375 6.390625 33.015625 6.390625 \nQ 39.65625 6.390625 43.53125 10.953125 \nQ 47.40625 15.53125 47.40625 23.390625 \nQ 47.40625 31.296875 43.53125 35.828125 \nQ 39.65625 40.375 33.015625 40.375 \nz\nM 52.59375 71.296875 \nL 52.59375 62.3125 \nQ 48.875 64.0625 45.09375 64.984375 \nQ 41.3125 65.921875 37.59375 65.921875 \nQ 27.828125 65.921875 22.671875 59.328125 \nQ 17.53125 52.734375 16.796875 39.40625 \nQ 19.671875 43.65625 24.015625 45.921875 \nQ 28.375 48.1875 33.59375 48.1875 \nQ 44.578125 48.1875 50.953125 41.515625 \nQ 57.328125 34.859375 57.328125 23.390625 \nQ 57.328125 12.15625 50.6875 5.359375 \nQ 44.046875 -1.421875 33.015625 -1.421875 \nQ 20.359375 -1.421875 13.671875 8.265625 \nQ 6.984375 17.96875 6.984375 36.375 \nQ 6.984375 53.65625 15.1875 63.9375 \nQ 23.390625 74.21875 37.203125 74.21875 \nQ 40.921875 74.21875 44.703125 73.484375 \nQ 48.484375 72.75 52.59375 71.296875 \nz\n\" id=\"DejaVuSans-54\"/>\n       </defs>\n       <use xlink:href=\"#DejaVuSans-54\"/>\n       <use x=\"63.623047\" xlink:href=\"#DejaVuSans-48\"/>\n      </g>\n     </g>\n    </g>\n    <g id=\"xtick_5\">\n     <g id=\"line2d_5\">\n      <g>\n       <use style=\"stroke:#000000;stroke-width:0.8;\" x=\"253.94624\" xlink:href=\"#mccb6587e87\" y=\"239.758125\"/>\n      </g>\n     </g>\n     <g id=\"text_5\">\n      <!-- 80 -->\n      <g transform=\"translate(247.58374 254.356562)scale(0.1 -0.1)\">\n       <defs>\n        <path d=\"M 31.78125 34.625 \nQ 24.75 34.625 20.71875 30.859375 \nQ 16.703125 27.09375 16.703125 20.515625 \nQ 16.703125 13.921875 20.71875 10.15625 \nQ 24.75 6.390625 31.78125 6.390625 \nQ 38.8125 6.390625 42.859375 10.171875 \nQ 46.921875 13.96875 46.921875 20.515625 \nQ 46.921875 27.09375 42.890625 30.859375 \nQ 38.875 34.625 31.78125 34.625 \nz\nM 21.921875 38.8125 \nQ 15.578125 40.375 12.03125 44.71875 \nQ 8.5 49.078125 8.5 55.328125 \nQ 8.5 64.0625 14.71875 69.140625 \nQ 20.953125 74.21875 31.78125 74.21875 \nQ 42.671875 74.21875 48.875 69.140625 \nQ 55.078125 64.0625 55.078125 55.328125 \nQ 55.078125 49.078125 51.53125 44.71875 \nQ 48 40.375 41.703125 38.8125 \nQ 48.828125 37.15625 52.796875 32.3125 \nQ 56.78125 27.484375 56.78125 20.515625 \nQ 56.78125 9.90625 50.3125 4.234375 \nQ 43.84375 -1.421875 31.78125 -1.421875 \nQ 19.734375 -1.421875 13.25 4.234375 \nQ 6.78125 9.90625 6.78125 20.515625 \nQ 6.78125 27.484375 10.78125 32.3125 \nQ 14.796875 37.15625 21.921875 38.8125 \nz\nM 18.3125 54.390625 \nQ 18.3125 48.734375 21.84375 45.5625 \nQ 25.390625 42.390625 31.78125 42.390625 \nQ 38.140625 42.390625 41.71875 45.5625 \nQ 45.3125 48.734375 45.3125 54.390625 \nQ 45.3125 60.0625 41.71875 63.234375 \nQ 38.140625 66.40625 31.78125 66.40625 \nQ 25.390625 66.40625 21.84375 63.234375 \nQ 18.3125 60.0625 18.3125 54.390625 \nz\n\" id=\"DejaVuSans-56\"/>\n       </defs>\n       <use xlink:href=\"#DejaVuSans-56\"/>\n       <use x=\"63.623047\" xlink:href=\"#DejaVuSans-48\"/>\n      </g>\n     </g>\n    </g>\n    <g id=\"xtick_6\">\n     <g id=\"line2d_6\">\n      <g>\n       <use style=\"stroke:#000000;stroke-width:0.8;\" x=\"298.705598\" xlink:href=\"#mccb6587e87\" y=\"239.758125\"/>\n      </g>\n     </g>\n     <g id=\"text_6\">\n      <!-- 100 -->\n      <g transform=\"translate(289.161848 254.356562)scale(0.1 -0.1)\">\n       <defs>\n        <path d=\"M 12.40625 8.296875 \nL 28.515625 8.296875 \nL 28.515625 63.921875 \nL 10.984375 60.40625 \nL 10.984375 69.390625 \nL 28.421875 72.90625 \nL 38.28125 72.90625 \nL 38.28125 8.296875 \nL 54.390625 8.296875 \nL 54.390625 0 \nL 12.40625 0 \nz\n\" id=\"DejaVuSans-49\"/>\n       </defs>\n       <use xlink:href=\"#DejaVuSans-49\"/>\n       <use x=\"63.623047\" xlink:href=\"#DejaVuSans-48\"/>\n       <use x=\"127.246094\" xlink:href=\"#DejaVuSans-48\"/>\n      </g>\n     </g>\n    </g>\n    <g id=\"xtick_7\">\n     <g id=\"line2d_7\">\n      <g>\n       <use style=\"stroke:#000000;stroke-width:0.8;\" x=\"343.464957\" xlink:href=\"#mccb6587e87\" y=\"239.758125\"/>\n      </g>\n     </g>\n     <g id=\"text_7\">\n      <!-- 120 -->\n      <g transform=\"translate(333.921207 254.356562)scale(0.1 -0.1)\">\n       <use xlink:href=\"#DejaVuSans-49\"/>\n       <use x=\"63.623047\" xlink:href=\"#DejaVuSans-50\"/>\n       <use x=\"127.246094\" xlink:href=\"#DejaVuSans-48\"/>\n      </g>\n     </g>\n    </g>\n    <g id=\"xtick_8\">\n     <g id=\"line2d_8\">\n      <g>\n       <use style=\"stroke:#000000;stroke-width:0.8;\" x=\"388.224315\" xlink:href=\"#mccb6587e87\" y=\"239.758125\"/>\n      </g>\n     </g>\n     <g id=\"text_8\">\n      <!-- 140 -->\n      <g transform=\"translate(378.680565 254.356562)scale(0.1 -0.1)\">\n       <use xlink:href=\"#DejaVuSans-49\"/>\n       <use x=\"63.623047\" xlink:href=\"#DejaVuSans-52\"/>\n       <use x=\"127.246094\" xlink:href=\"#DejaVuSans-48\"/>\n      </g>\n     </g>\n    </g>\n    <g id=\"text_9\">\n     <!-- Time -->\n     <g transform=\"translate(214.857031 268.034687)scale(0.1 -0.1)\">\n      <defs>\n       <path d=\"M -0.296875 72.90625 \nL 61.375 72.90625 \nL 61.375 64.59375 \nL 35.5 64.59375 \nL 35.5 0 \nL 25.59375 0 \nL 25.59375 64.59375 \nL -0.296875 64.59375 \nz\n\" id=\"DejaVuSans-84\"/>\n       <path d=\"M 9.421875 54.6875 \nL 18.40625 54.6875 \nL 18.40625 0 \nL 9.421875 0 \nz\nM 9.421875 75.984375 \nL 18.40625 75.984375 \nL 18.40625 64.59375 \nL 9.421875 64.59375 \nz\n\" id=\"DejaVuSans-105\"/>\n       <path d=\"M 52 44.1875 \nQ 55.375 50.25 60.0625 53.125 \nQ 64.75 56 71.09375 56 \nQ 79.640625 56 84.28125 50.015625 \nQ 88.921875 44.046875 88.921875 33.015625 \nL 88.921875 0 \nL 79.890625 0 \nL 79.890625 32.71875 \nQ 79.890625 40.578125 77.09375 44.375 \nQ 74.3125 48.1875 68.609375 48.1875 \nQ 61.625 48.1875 57.5625 43.546875 \nQ 53.515625 38.921875 53.515625 30.90625 \nL 53.515625 0 \nL 44.484375 0 \nL 44.484375 32.71875 \nQ 44.484375 40.625 41.703125 44.40625 \nQ 38.921875 48.1875 33.109375 48.1875 \nQ 26.21875 48.1875 22.15625 43.53125 \nQ 18.109375 38.875 18.109375 30.90625 \nL 18.109375 0 \nL 9.078125 0 \nL 9.078125 54.6875 \nL 18.109375 54.6875 \nL 18.109375 46.1875 \nQ 21.1875 51.21875 25.484375 53.609375 \nQ 29.78125 56 35.6875 56 \nQ 41.65625 56 45.828125 52.96875 \nQ 50 49.953125 52 44.1875 \nz\n\" id=\"DejaVuSans-109\"/>\n       <path d=\"M 56.203125 29.59375 \nL 56.203125 25.203125 \nL 14.890625 25.203125 \nQ 15.484375 15.921875 20.484375 11.0625 \nQ 25.484375 6.203125 34.421875 6.203125 \nQ 39.59375 6.203125 44.453125 7.46875 \nQ 49.3125 8.734375 54.109375 11.28125 \nL 54.109375 2.78125 \nQ 49.265625 0.734375 44.1875 -0.34375 \nQ 39.109375 -1.421875 33.890625 -1.421875 \nQ 20.796875 -1.421875 13.15625 6.1875 \nQ 5.515625 13.8125 5.515625 26.8125 \nQ 5.515625 40.234375 12.765625 48.109375 \nQ 20.015625 56 32.328125 56 \nQ 43.359375 56 49.78125 48.890625 \nQ 56.203125 41.796875 56.203125 29.59375 \nz\nM 47.21875 32.234375 \nQ 47.125 39.59375 43.09375 43.984375 \nQ 39.0625 48.390625 32.421875 48.390625 \nQ 24.90625 48.390625 20.390625 44.140625 \nQ 15.875 39.890625 15.1875 32.171875 \nz\n\" id=\"DejaVuSans-101\"/>\n      </defs>\n      <use xlink:href=\"#DejaVuSans-84\"/>\n      <use x=\"57.958984\" xlink:href=\"#DejaVuSans-105\"/>\n      <use x=\"85.742188\" xlink:href=\"#DejaVuSans-109\"/>\n      <use x=\"183.154297\" xlink:href=\"#DejaVuSans-101\"/>\n     </g>\n    </g>\n   </g>\n   <g id=\"matplotlib.axis_2\">\n    <g id=\"ytick_1\">\n     <g id=\"line2d_9\">\n      <defs>\n       <path d=\"M 0 0 \nL -3.5 0 \n\" id=\"mea22048266\" style=\"stroke:#000000;stroke-width:0.8;\"/>\n      </defs>\n      <g>\n       <use style=\"stroke:#000000;stroke-width:0.8;\" x=\"59.690625\" xlink:href=\"#mea22048266\" y=\"221.730152\"/>\n      </g>\n     </g>\n     <g id=\"text_10\">\n      <!-- 20000 -->\n      <g transform=\"translate(20.878125 225.52937)scale(0.1 -0.1)\">\n       <use xlink:href=\"#DejaVuSans-50\"/>\n       <use x=\"63.623047\" xlink:href=\"#DejaVuSans-48\"/>\n       <use x=\"127.246094\" xlink:href=\"#DejaVuSans-48\"/>\n       <use x=\"190.869141\" xlink:href=\"#DejaVuSans-48\"/>\n       <use x=\"254.492188\" xlink:href=\"#DejaVuSans-48\"/>\n      </g>\n     </g>\n    </g>\n    <g id=\"ytick_2\">\n     <g id=\"line2d_10\">\n      <g>\n       <use style=\"stroke:#000000;stroke-width:0.8;\" x=\"59.690625\" xlink:href=\"#mea22048266\" y=\"178.006408\"/>\n      </g>\n     </g>\n     <g id=\"text_11\">\n      <!-- 30000 -->\n      <g transform=\"translate(20.878125 181.805626)scale(0.1 -0.1)\">\n       <defs>\n        <path d=\"M 40.578125 39.3125 \nQ 47.65625 37.796875 51.625 33 \nQ 55.609375 28.21875 55.609375 21.1875 \nQ 55.609375 10.40625 48.1875 4.484375 \nQ 40.765625 -1.421875 27.09375 -1.421875 \nQ 22.515625 -1.421875 17.65625 -0.515625 \nQ 12.796875 0.390625 7.625 2.203125 \nL 7.625 11.71875 \nQ 11.71875 9.328125 16.59375 8.109375 \nQ 21.484375 6.890625 26.8125 6.890625 \nQ 36.078125 6.890625 40.9375 10.546875 \nQ 45.796875 14.203125 45.796875 21.1875 \nQ 45.796875 27.640625 41.28125 31.265625 \nQ 36.765625 34.90625 28.71875 34.90625 \nL 20.21875 34.90625 \nL 20.21875 43.015625 \nL 29.109375 43.015625 \nQ 36.375 43.015625 40.234375 45.921875 \nQ 44.09375 48.828125 44.09375 54.296875 \nQ 44.09375 59.90625 40.109375 62.90625 \nQ 36.140625 65.921875 28.71875 65.921875 \nQ 24.65625 65.921875 20.015625 65.03125 \nQ 15.375 64.15625 9.8125 62.3125 \nL 9.8125 71.09375 \nQ 15.4375 72.65625 20.34375 73.4375 \nQ 25.25 74.21875 29.59375 74.21875 \nQ 40.828125 74.21875 47.359375 69.109375 \nQ 53.90625 64.015625 53.90625 55.328125 \nQ 53.90625 49.265625 50.4375 45.09375 \nQ 46.96875 40.921875 40.578125 39.3125 \nz\n\" id=\"DejaVuSans-51\"/>\n       </defs>\n       <use xlink:href=\"#DejaVuSans-51\"/>\n       <use x=\"63.623047\" xlink:href=\"#DejaVuSans-48\"/>\n       <use x=\"127.246094\" xlink:href=\"#DejaVuSans-48\"/>\n       <use x=\"190.869141\" xlink:href=\"#DejaVuSans-48\"/>\n       <use x=\"254.492188\" xlink:href=\"#DejaVuSans-48\"/>\n      </g>\n     </g>\n    </g>\n    <g id=\"ytick_3\">\n     <g id=\"line2d_11\">\n      <g>\n       <use style=\"stroke:#000000;stroke-width:0.8;\" x=\"59.690625\" xlink:href=\"#mea22048266\" y=\"134.282664\"/>\n      </g>\n     </g>\n     <g id=\"text_12\">\n      <!-- 40000 -->\n      <g transform=\"translate(20.878125 138.081883)scale(0.1 -0.1)\">\n       <use xlink:href=\"#DejaVuSans-52\"/>\n       <use x=\"63.623047\" xlink:href=\"#DejaVuSans-48\"/>\n       <use x=\"127.246094\" xlink:href=\"#DejaVuSans-48\"/>\n       <use x=\"190.869141\" xlink:href=\"#DejaVuSans-48\"/>\n       <use x=\"254.492188\" xlink:href=\"#DejaVuSans-48\"/>\n      </g>\n     </g>\n    </g>\n    <g id=\"ytick_4\">\n     <g id=\"line2d_12\">\n      <g>\n       <use style=\"stroke:#000000;stroke-width:0.8;\" x=\"59.690625\" xlink:href=\"#mea22048266\" y=\"90.55892\"/>\n      </g>\n     </g>\n     <g id=\"text_13\">\n      <!-- 50000 -->\n      <g transform=\"translate(20.878125 94.358139)scale(0.1 -0.1)\">\n       <defs>\n        <path d=\"M 10.796875 72.90625 \nL 49.515625 72.90625 \nL 49.515625 64.59375 \nL 19.828125 64.59375 \nL 19.828125 46.734375 \nQ 21.96875 47.46875 24.109375 47.828125 \nQ 26.265625 48.1875 28.421875 48.1875 \nQ 40.625 48.1875 47.75 41.5 \nQ 54.890625 34.8125 54.890625 23.390625 \nQ 54.890625 11.625 47.5625 5.09375 \nQ 40.234375 -1.421875 26.90625 -1.421875 \nQ 22.3125 -1.421875 17.546875 -0.640625 \nQ 12.796875 0.140625 7.71875 1.703125 \nL 7.71875 11.625 \nQ 12.109375 9.234375 16.796875 8.0625 \nQ 21.484375 6.890625 26.703125 6.890625 \nQ 35.15625 6.890625 40.078125 11.328125 \nQ 45.015625 15.765625 45.015625 23.390625 \nQ 45.015625 31 40.078125 35.4375 \nQ 35.15625 39.890625 26.703125 39.890625 \nQ 22.75 39.890625 18.8125 39.015625 \nQ 14.890625 38.140625 10.796875 36.28125 \nz\n\" id=\"DejaVuSans-53\"/>\n       </defs>\n       <use xlink:href=\"#DejaVuSans-53\"/>\n       <use x=\"63.623047\" xlink:href=\"#DejaVuSans-48\"/>\n       <use x=\"127.246094\" xlink:href=\"#DejaVuSans-48\"/>\n       <use x=\"190.869141\" xlink:href=\"#DejaVuSans-48\"/>\n       <use x=\"254.492188\" xlink:href=\"#DejaVuSans-48\"/>\n      </g>\n     </g>\n    </g>\n    <g id=\"ytick_5\">\n     <g id=\"line2d_13\">\n      <g>\n       <use style=\"stroke:#000000;stroke-width:0.8;\" x=\"59.690625\" xlink:href=\"#mea22048266\" y=\"46.835176\"/>\n      </g>\n     </g>\n     <g id=\"text_14\">\n      <!-- 60000 -->\n      <g transform=\"translate(20.878125 50.634395)scale(0.1 -0.1)\">\n       <use xlink:href=\"#DejaVuSans-54\"/>\n       <use x=\"63.623047\" xlink:href=\"#DejaVuSans-48\"/>\n       <use x=\"127.246094\" xlink:href=\"#DejaVuSans-48\"/>\n       <use x=\"190.869141\" xlink:href=\"#DejaVuSans-48\"/>\n       <use x=\"254.492188\" xlink:href=\"#DejaVuSans-48\"/>\n      </g>\n     </g>\n    </g>\n    <g id=\"text_15\">\n     <!-- Bitcoin Price -->\n     <g transform=\"translate(14.798438 161.970937)rotate(-90)scale(0.1 -0.1)\">\n      <defs>\n       <path d=\"M 19.671875 34.8125 \nL 19.671875 8.109375 \nL 35.5 8.109375 \nQ 43.453125 8.109375 47.28125 11.40625 \nQ 51.125 14.703125 51.125 21.484375 \nQ 51.125 28.328125 47.28125 31.5625 \nQ 43.453125 34.8125 35.5 34.8125 \nz\nM 19.671875 64.796875 \nL 19.671875 42.828125 \nL 34.28125 42.828125 \nQ 41.5 42.828125 45.03125 45.53125 \nQ 48.578125 48.25 48.578125 53.8125 \nQ 48.578125 59.328125 45.03125 62.0625 \nQ 41.5 64.796875 34.28125 64.796875 \nz\nM 9.8125 72.90625 \nL 35.015625 72.90625 \nQ 46.296875 72.90625 52.390625 68.21875 \nQ 58.5 63.53125 58.5 54.890625 \nQ 58.5 48.1875 55.375 44.234375 \nQ 52.25 40.28125 46.1875 39.3125 \nQ 53.46875 37.75 57.5 32.78125 \nQ 61.53125 27.828125 61.53125 20.40625 \nQ 61.53125 10.640625 54.890625 5.3125 \nQ 48.25 0 35.984375 0 \nL 9.8125 0 \nz\n\" id=\"DejaVuSans-66\"/>\n       <path d=\"M 18.3125 70.21875 \nL 18.3125 54.6875 \nL 36.8125 54.6875 \nL 36.8125 47.703125 \nL 18.3125 47.703125 \nL 18.3125 18.015625 \nQ 18.3125 11.328125 20.140625 9.421875 \nQ 21.96875 7.515625 27.59375 7.515625 \nL 36.8125 7.515625 \nL 36.8125 0 \nL 27.59375 0 \nQ 17.1875 0 13.234375 3.875 \nQ 9.28125 7.765625 9.28125 18.015625 \nL 9.28125 47.703125 \nL 2.6875 47.703125 \nL 2.6875 54.6875 \nL 9.28125 54.6875 \nL 9.28125 70.21875 \nz\n\" id=\"DejaVuSans-116\"/>\n       <path d=\"M 48.78125 52.59375 \nL 48.78125 44.1875 \nQ 44.96875 46.296875 41.140625 47.34375 \nQ 37.3125 48.390625 33.40625 48.390625 \nQ 24.65625 48.390625 19.8125 42.84375 \nQ 14.984375 37.3125 14.984375 27.296875 \nQ 14.984375 17.28125 19.8125 11.734375 \nQ 24.65625 6.203125 33.40625 6.203125 \nQ 37.3125 6.203125 41.140625 7.25 \nQ 44.96875 8.296875 48.78125 10.40625 \nL 48.78125 2.09375 \nQ 45.015625 0.34375 40.984375 -0.53125 \nQ 36.96875 -1.421875 32.421875 -1.421875 \nQ 20.0625 -1.421875 12.78125 6.34375 \nQ 5.515625 14.109375 5.515625 27.296875 \nQ 5.515625 40.671875 12.859375 48.328125 \nQ 20.21875 56 33.015625 56 \nQ 37.15625 56 41.109375 55.140625 \nQ 45.0625 54.296875 48.78125 52.59375 \nz\n\" id=\"DejaVuSans-99\"/>\n       <path d=\"M 30.609375 48.390625 \nQ 23.390625 48.390625 19.1875 42.75 \nQ 14.984375 37.109375 14.984375 27.296875 \nQ 14.984375 17.484375 19.15625 11.84375 \nQ 23.34375 6.203125 30.609375 6.203125 \nQ 37.796875 6.203125 41.984375 11.859375 \nQ 46.1875 17.53125 46.1875 27.296875 \nQ 46.1875 37.015625 41.984375 42.703125 \nQ 37.796875 48.390625 30.609375 48.390625 \nz\nM 30.609375 56 \nQ 42.328125 56 49.015625 48.375 \nQ 55.71875 40.765625 55.71875 27.296875 \nQ 55.71875 13.875 49.015625 6.21875 \nQ 42.328125 -1.421875 30.609375 -1.421875 \nQ 18.84375 -1.421875 12.171875 6.21875 \nQ 5.515625 13.875 5.515625 27.296875 \nQ 5.515625 40.765625 12.171875 48.375 \nQ 18.84375 56 30.609375 56 \nz\n\" id=\"DejaVuSans-111\"/>\n       <path d=\"M 54.890625 33.015625 \nL 54.890625 0 \nL 45.90625 0 \nL 45.90625 32.71875 \nQ 45.90625 40.484375 42.875 44.328125 \nQ 39.84375 48.1875 33.796875 48.1875 \nQ 26.515625 48.1875 22.3125 43.546875 \nQ 18.109375 38.921875 18.109375 30.90625 \nL 18.109375 0 \nL 9.078125 0 \nL 9.078125 54.6875 \nL 18.109375 54.6875 \nL 18.109375 46.1875 \nQ 21.34375 51.125 25.703125 53.5625 \nQ 30.078125 56 35.796875 56 \nQ 45.21875 56 50.046875 50.171875 \nQ 54.890625 44.34375 54.890625 33.015625 \nz\n\" id=\"DejaVuSans-110\"/>\n       <path id=\"DejaVuSans-32\"/>\n       <path d=\"M 19.671875 64.796875 \nL 19.671875 37.40625 \nL 32.078125 37.40625 \nQ 38.96875 37.40625 42.71875 40.96875 \nQ 46.484375 44.53125 46.484375 51.125 \nQ 46.484375 57.671875 42.71875 61.234375 \nQ 38.96875 64.796875 32.078125 64.796875 \nz\nM 9.8125 72.90625 \nL 32.078125 72.90625 \nQ 44.34375 72.90625 50.609375 67.359375 \nQ 56.890625 61.8125 56.890625 51.125 \nQ 56.890625 40.328125 50.609375 34.8125 \nQ 44.34375 29.296875 32.078125 29.296875 \nL 19.671875 29.296875 \nL 19.671875 0 \nL 9.8125 0 \nz\n\" id=\"DejaVuSans-80\"/>\n       <path d=\"M 41.109375 46.296875 \nQ 39.59375 47.171875 37.8125 47.578125 \nQ 36.03125 48 33.890625 48 \nQ 26.265625 48 22.1875 43.046875 \nQ 18.109375 38.09375 18.109375 28.8125 \nL 18.109375 0 \nL 9.078125 0 \nL 9.078125 54.6875 \nL 18.109375 54.6875 \nL 18.109375 46.1875 \nQ 20.953125 51.171875 25.484375 53.578125 \nQ 30.03125 56 36.53125 56 \nQ 37.453125 56 38.578125 55.875 \nQ 39.703125 55.765625 41.0625 55.515625 \nz\n\" id=\"DejaVuSans-114\"/>\n      </defs>\n      <use xlink:href=\"#DejaVuSans-66\"/>\n      <use x=\"68.603516\" xlink:href=\"#DejaVuSans-105\"/>\n      <use x=\"96.386719\" xlink:href=\"#DejaVuSans-116\"/>\n      <use x=\"135.595703\" xlink:href=\"#DejaVuSans-99\"/>\n      <use x=\"190.576172\" xlink:href=\"#DejaVuSans-111\"/>\n      <use x=\"251.757812\" xlink:href=\"#DejaVuSans-105\"/>\n      <use x=\"279.541016\" xlink:href=\"#DejaVuSans-110\"/>\n      <use x=\"342.919922\" xlink:href=\"#DejaVuSans-32\"/>\n      <use x=\"374.707031\" xlink:href=\"#DejaVuSans-80\"/>\n      <use x=\"433.259766\" xlink:href=\"#DejaVuSans-114\"/>\n      <use x=\"474.373047\" xlink:href=\"#DejaVuSans-105\"/>\n      <use x=\"502.15625\" xlink:href=\"#DejaVuSans-99\"/>\n      <use x=\"557.136719\" xlink:href=\"#DejaVuSans-101\"/>\n     </g>\n    </g>\n   </g>\n   <g id=\"line2d_14\">\n    <path clip-path=\"url(#p1b610bfbb0)\" d=\"M 74.908807 224.071419 \nL 77.146775 226.919614 \nL 79.384743 225.90568 \nL 81.622711 225.604367 \nL 83.860678 225.632059 \nL 86.098646 227.490939 \nL 88.336614 228.10067 \nL 90.574582 228.903134 \nL 92.81255 229.874489 \nL 95.050518 226.617329 \nL 99.526454 225.004081 \nL 101.764422 224.163481 \nL 104.00239 215.999472 \nL 106.240358 209.067859 \nL 108.478326 208.574655 \nL 110.716293 204.718018 \nL 115.192229 207.837933 \nL 117.430197 206.715502 \nL 119.668165 207.631631 \nL 121.906133 205.885167 \nL 124.144101 201.700278 \nL 126.382069 193.828735 \nL 128.620037 193.793782 \nL 130.858005 192.356412 \nL 133.095973 191.22965 \nL 135.333941 183.389517 \nL 137.571908 181.891168 \nL 139.809876 180.920136 \nL 142.047844 168.587581 \nL 144.285812 164.878194 \nL 146.52378 171.746863 \nL 148.761748 158.62102 \nL 150.999716 150.566451 \nL 153.237684 135.535315 \nL 155.475652 132.01144 \nL 157.71362 133.150551 \nL 159.951588 139.924053 \nL 162.189555 158.7258 \nL 164.427523 159.578554 \nL 166.665491 147.325424 \nL 168.903459 141.121654 \nL 171.141427 148.48595 \nL 173.379395 151.698795 \nL 175.617363 150.128973 \nL 177.855331 150.256655 \nL 180.093299 149.247029 \nL 182.331267 156.124717 \nL 184.569235 175.35595 \nL 186.807203 163.278651 \nL 189.04517 168.955167 \nL 193.521106 167.074353 \nL 195.759074 167.84258 \nL 197.997042 175.66719 \nL 200.23501 163.104401 \nL 202.472978 156.832934 \nL 204.710946 157.795661 \nL 206.948914 164.507271 \nL 209.186882 162.207617 \nL 211.42485 153.377251 \nL 213.662818 145.66209 \nL 215.900785 146.279357 \nL 218.138753 143.676288 \nL 220.376721 132.95871 \nL 222.614689 141.008769 \nL 224.852657 113.659549 \nL 227.090625 105.097713 \nL 229.328593 111.382459 \nL 231.566561 101.485932 \nL 233.804529 99.810065 \nL 236.042497 103.653348 \nL 238.280465 94.270333 \nL 240.518432 98.752784 \nL 242.7564 95.629062 \nL 244.994368 81.091406 \nL 247.232336 83.001232 \nL 249.470304 65.552417 \nL 251.708272 69.564314 \nL 253.94624 59.389826 \nL 256.184208 72.274023 \nL 258.422176 98.547784 \nL 260.660144 96.044357 \nL 262.898112 98.029506 \nL 265.13608 109.132264 \nL 267.374047 105.238703 \nL 269.612015 112.015007 \nL 271.849983 93.842949 \nL 274.087951 99.737509 \nL 276.325919 87.009185 \nL 278.563887 98.169094 \nL 280.801855 94.276615 \nL 283.039823 95.459687 \nL 285.277791 87.958675 \nL 287.515759 83.986113 \nL 289.753727 71.06671 \nL 291.991695 60.323191 \nL 294.229662 57.168155 \nL 296.46763 58.613626 \nL 298.705598 43.586319 \nL 300.943566 45.969874 \nL 303.181534 63.0115 \nL 305.419502 61.527299 \nL 307.65747 53.099548 \nL 309.895438 55.653841 \nL 312.133406 53.604786 \nL 314.371374 52.984473 \nL 316.609342 56.469846 \nL 318.847309 71.629343 \nL 321.085277 69.596455 \nL 323.323245 78.369853 \nL 325.561213 81.053955 \nL 327.799181 70.957366 \nL 330.037149 63.299981 \nL 332.275117 67.193276 \nL 334.513085 57.207851 \nL 336.751053 52.368523 \nL 338.989021 52.41142 \nL 341.226989 51.274828 \nL 343.464957 51.987464 \nL 345.702924 57.688289 \nL 350.17886 51.891567 \nL 352.416828 55.40421 \nL 354.654796 62.099385 \nL 356.892764 56.10065 \nL 359.130732 54.828274 \nL 361.3687 49.913546 \nL 363.606668 47.609516 \nL 365.844636 47.477053 \nL 368.082604 32.739146 \nL 370.320572 34.039172 \nL 372.558539 32.201761 \nL 377.034475 44.323489 \nL 379.272443 60.604526 \nL 379.272443 60.604526 \n\" style=\"fill:none;stroke:#ff0000;stroke-linecap:square;stroke-width:1.5;\"/>\n   </g>\n   <g id=\"line2d_15\">\n    <path clip-path=\"url(#p1b610bfbb0)\" d=\"M 74.908807 226.308625 \nL 77.146775 225.152542 \nL 79.384743 227.176285 \nL 81.622711 225.879279 \nL 83.860678 226.110229 \nL 86.098646 226.043952 \nL 88.336614 227.463427 \nL 90.574582 227.76858 \nL 92.81255 228.705045 \nL 95.050518 229.196382 \nL 97.288486 226.44615 \nL 99.526454 225.922686 \nL 101.764422 224.57702 \nL 104.00239 223.987142 \nL 106.240358 217.181781 \nL 108.478326 211.725672 \nL 110.716293 210.646481 \nL 112.954261 205.669498 \nL 115.192229 206.868665 \nL 117.430197 206.637766 \nL 119.668165 205.529369 \nL 121.906133 205.002959 \nL 124.144101 203.494233 \nL 126.382069 200.176062 \nL 128.620037 193.507329 \nL 130.858005 193.277011 \nL 135.333941 189.124169 \nL 137.571908 181.933705 \nL 139.809876 182.036661 \nL 142.047844 181.26281 \nL 144.285812 170.675917 \nL 146.52378 166.947187 \nL 148.761748 174.839306 \nL 150.999716 161.373434 \nL 153.237684 158.680479 \nL 155.475652 141.749398 \nL 157.71362 140.876375 \nL 159.951588 137.302728 \nL 162.189555 141.848921 \nL 164.427523 155.205415 \nL 166.665491 154.494631 \nL 168.903459 148.129256 \nL 171.141427 143.898506 \nL 173.379395 151.505071 \nL 175.617363 151.937577 \nL 177.855331 150.07404 \nL 180.093299 149.75759 \nL 182.331267 150.474779 \nL 184.569235 156.496973 \nL 186.807203 170.04299 \nL 189.04517 160.78909 \nL 191.283138 169.736147 \nL 193.521106 167.779151 \nL 195.759074 170.468349 \nL 197.997042 168.917095 \nL 200.23501 176.357903 \nL 202.472978 166.062789 \nL 204.710946 163.031777 \nL 206.948914 163.588076 \nL 209.186882 166.9167 \nL 211.42485 164.233189 \nL 213.662818 154.092799 \nL 215.900785 150.513703 \nL 218.138753 150.278039 \nL 220.376721 146.442886 \nL 222.614689 134.976898 \nL 224.852657 140.516816 \nL 227.090625 116.810553 \nL 229.328593 117.916747 \nL 231.566561 118.356854 \nL 233.804529 108.297267 \nL 236.042497 112.766722 \nL 238.280465 114.348445 \nL 240.518432 100.255224 \nL 242.7564 107.288888 \nL 244.994368 95.244688 \nL 247.232336 88.65183 \nL 249.470304 93.617362 \nL 251.708272 77.7156 \nL 253.94624 81.200433 \nL 256.184208 61.735084 \nL 258.422176 82.969383 \nL 260.660144 81.364995 \nL 262.898112 89.291683 \nL 265.13608 90.448261 \nL 267.374047 99.751376 \nL 269.612015 101.645246 \nL 271.849983 106.9378 \nL 274.087951 96.841065 \nL 276.325919 107.419735 \nL 278.563887 95.186959 \nL 280.801855 105.830172 \nL 283.039823 98.97253 \nL 285.277791 97.791886 \nL 287.515759 95.881944 \nL 289.753727 91.248986 \nL 291.991695 85.176852 \nL 294.229662 72.847746 \nL 296.46763 72.714082 \nL 298.705598 66.588351 \nL 300.943566 57.107386 \nL 303.181534 58.407416 \nL 305.419502 66.114939 \nL 307.65747 64.843996 \nL 309.895438 57.298507 \nL 312.133406 61.99401 \nL 314.371374 66.230055 \nL 316.609342 63.67652 \nL 318.847309 71.607205 \nL 321.085277 74.646295 \nL 323.323245 76.770825 \nL 325.561213 77.699562 \nL 327.799181 80.966733 \nL 330.037149 76.531899 \nL 332.275117 74.680984 \nL 334.513085 79.205162 \nL 336.751053 69.093414 \nL 338.989021 71.00544 \nL 341.226989 66.639333 \nL 343.464957 75.402084 \nL 345.702924 68.444441 \nL 347.940892 74.564604 \nL 350.17886 72.867917 \nL 352.416828 78.039002 \nL 354.654796 80.336804 \nL 356.892764 78.106551 \nL 359.130732 77.723764 \nL 361.3687 78.764252 \nL 363.606668 76.442778 \nL 365.844636 81.488378 \nL 368.082604 71.474565 \nL 370.320572 70.67249 \nL 372.558539 73.733767 \nL 374.796507 73.467838 \nL 377.034475 88.476337 \nL 379.272443 83.217481 \nL 379.272443 83.217481 \n\" style=\"fill:none;stroke:#0000ff;stroke-linecap:square;stroke-width:1.5;\"/>\n   </g>\n   <g id=\"patch_3\">\n    <path d=\"M 59.690625 239.758125 \nL 59.690625 22.318125 \n\" style=\"fill:none;stroke:#000000;stroke-linecap:square;stroke-linejoin:miter;stroke-width:0.8;\"/>\n   </g>\n   <g id=\"patch_4\">\n    <path d=\"M 394.490625 239.758125 \nL 394.490625 22.318125 \n\" style=\"fill:none;stroke:#000000;stroke-linecap:square;stroke-linejoin:miter;stroke-width:0.8;\"/>\n   </g>\n   <g id=\"patch_5\">\n    <path d=\"M 59.690625 239.758125 \nL 394.490625 239.758125 \n\" style=\"fill:none;stroke:#000000;stroke-linecap:square;stroke-linejoin:miter;stroke-width:0.8;\"/>\n   </g>\n   <g id=\"patch_6\">\n    <path d=\"M 59.690625 22.318125 \nL 394.490625 22.318125 \n\" style=\"fill:none;stroke:#000000;stroke-linecap:square;stroke-linejoin:miter;stroke-width:0.8;\"/>\n   </g>\n   <g id=\"text_16\">\n    <!-- Bitcoin Price Prediction -->\n    <g transform=\"translate(158.260313 16.318125)scale(0.12 -0.12)\">\n     <defs>\n      <path d=\"M 45.40625 46.390625 \nL 45.40625 75.984375 \nL 54.390625 75.984375 \nL 54.390625 0 \nL 45.40625 0 \nL 45.40625 8.203125 \nQ 42.578125 3.328125 38.25 0.953125 \nQ 33.9375 -1.421875 27.875 -1.421875 \nQ 17.96875 -1.421875 11.734375 6.484375 \nQ 5.515625 14.40625 5.515625 27.296875 \nQ 5.515625 40.1875 11.734375 48.09375 \nQ 17.96875 56 27.875 56 \nQ 33.9375 56 38.25 53.625 \nQ 42.578125 51.265625 45.40625 46.390625 \nz\nM 14.796875 27.296875 \nQ 14.796875 17.390625 18.875 11.75 \nQ 22.953125 6.109375 30.078125 6.109375 \nQ 37.203125 6.109375 41.296875 11.75 \nQ 45.40625 17.390625 45.40625 27.296875 \nQ 45.40625 37.203125 41.296875 42.84375 \nQ 37.203125 48.484375 30.078125 48.484375 \nQ 22.953125 48.484375 18.875 42.84375 \nQ 14.796875 37.203125 14.796875 27.296875 \nz\n\" id=\"DejaVuSans-100\"/>\n     </defs>\n     <use xlink:href=\"#DejaVuSans-66\"/>\n     <use x=\"68.603516\" xlink:href=\"#DejaVuSans-105\"/>\n     <use x=\"96.386719\" xlink:href=\"#DejaVuSans-116\"/>\n     <use x=\"135.595703\" xlink:href=\"#DejaVuSans-99\"/>\n     <use x=\"190.576172\" xlink:href=\"#DejaVuSans-111\"/>\n     <use x=\"251.757812\" xlink:href=\"#DejaVuSans-105\"/>\n     <use x=\"279.541016\" xlink:href=\"#DejaVuSans-110\"/>\n     <use x=\"342.919922\" xlink:href=\"#DejaVuSans-32\"/>\n     <use x=\"374.707031\" xlink:href=\"#DejaVuSans-80\"/>\n     <use x=\"433.259766\" xlink:href=\"#DejaVuSans-114\"/>\n     <use x=\"474.373047\" xlink:href=\"#DejaVuSans-105\"/>\n     <use x=\"502.15625\" xlink:href=\"#DejaVuSans-99\"/>\n     <use x=\"557.136719\" xlink:href=\"#DejaVuSans-101\"/>\n     <use x=\"618.660156\" xlink:href=\"#DejaVuSans-32\"/>\n     <use x=\"650.447266\" xlink:href=\"#DejaVuSans-80\"/>\n     <use x=\"709\" xlink:href=\"#DejaVuSans-114\"/>\n     <use x=\"747.863281\" xlink:href=\"#DejaVuSans-101\"/>\n     <use x=\"809.386719\" xlink:href=\"#DejaVuSans-100\"/>\n     <use x=\"872.863281\" xlink:href=\"#DejaVuSans-105\"/>\n     <use x=\"900.646484\" xlink:href=\"#DejaVuSans-99\"/>\n     <use x=\"955.626953\" xlink:href=\"#DejaVuSans-116\"/>\n     <use x=\"994.835938\" xlink:href=\"#DejaVuSans-105\"/>\n     <use x=\"1022.619141\" xlink:href=\"#DejaVuSans-111\"/>\n     <use x=\"1083.800781\" xlink:href=\"#DejaVuSans-110\"/>\n    </g>\n   </g>\n   <g id=\"legend_1\">\n    <g id=\"patch_7\">\n     <path d=\"M 66.690625 59.674375 \nL 210.675 59.674375 \nQ 212.675 59.674375 212.675 57.674375 \nL 212.675 29.318125 \nQ 212.675 27.318125 210.675 27.318125 \nL 66.690625 27.318125 \nQ 64.690625 27.318125 64.690625 29.318125 \nL 64.690625 57.674375 \nQ 64.690625 59.674375 66.690625 59.674375 \nz\n\" style=\"fill:#ffffff;opacity:0.8;stroke:#cccccc;stroke-linejoin:miter;\"/>\n    </g>\n    <g id=\"line2d_16\">\n     <path d=\"M 68.690625 35.416562 \nL 88.690625 35.416562 \n\" style=\"fill:none;stroke:#ff0000;stroke-linecap:square;stroke-width:1.5;\"/>\n    </g>\n    <g id=\"line2d_17\"/>\n    <g id=\"text_17\">\n     <!-- Real Bitcoin Price -->\n     <g transform=\"translate(96.690625 38.916562)scale(0.1 -0.1)\">\n      <defs>\n       <path d=\"M 44.390625 34.1875 \nQ 47.5625 33.109375 50.5625 29.59375 \nQ 53.5625 26.078125 56.59375 19.921875 \nL 66.609375 0 \nL 56 0 \nL 46.6875 18.703125 \nQ 43.0625 26.03125 39.671875 28.421875 \nQ 36.28125 30.8125 30.421875 30.8125 \nL 19.671875 30.8125 \nL 19.671875 0 \nL 9.8125 0 \nL 9.8125 72.90625 \nL 32.078125 72.90625 \nQ 44.578125 72.90625 50.734375 67.671875 \nQ 56.890625 62.453125 56.890625 51.90625 \nQ 56.890625 45.015625 53.6875 40.46875 \nQ 50.484375 35.9375 44.390625 34.1875 \nz\nM 19.671875 64.796875 \nL 19.671875 38.921875 \nL 32.078125 38.921875 \nQ 39.203125 38.921875 42.84375 42.21875 \nQ 46.484375 45.515625 46.484375 51.90625 \nQ 46.484375 58.296875 42.84375 61.546875 \nQ 39.203125 64.796875 32.078125 64.796875 \nz\n\" id=\"DejaVuSans-82\"/>\n       <path d=\"M 34.28125 27.484375 \nQ 23.390625 27.484375 19.1875 25 \nQ 14.984375 22.515625 14.984375 16.5 \nQ 14.984375 11.71875 18.140625 8.90625 \nQ 21.296875 6.109375 26.703125 6.109375 \nQ 34.1875 6.109375 38.703125 11.40625 \nQ 43.21875 16.703125 43.21875 25.484375 \nL 43.21875 27.484375 \nz\nM 52.203125 31.203125 \nL 52.203125 0 \nL 43.21875 0 \nL 43.21875 8.296875 \nQ 40.140625 3.328125 35.546875 0.953125 \nQ 30.953125 -1.421875 24.3125 -1.421875 \nQ 15.921875 -1.421875 10.953125 3.296875 \nQ 6 8.015625 6 15.921875 \nQ 6 25.140625 12.171875 29.828125 \nQ 18.359375 34.515625 30.609375 34.515625 \nL 43.21875 34.515625 \nL 43.21875 35.40625 \nQ 43.21875 41.609375 39.140625 45 \nQ 35.0625 48.390625 27.6875 48.390625 \nQ 23 48.390625 18.546875 47.265625 \nQ 14.109375 46.140625 10.015625 43.890625 \nL 10.015625 52.203125 \nQ 14.9375 54.109375 19.578125 55.046875 \nQ 24.21875 56 28.609375 56 \nQ 40.484375 56 46.34375 49.84375 \nQ 52.203125 43.703125 52.203125 31.203125 \nz\n\" id=\"DejaVuSans-97\"/>\n       <path d=\"M 9.421875 75.984375 \nL 18.40625 75.984375 \nL 18.40625 0 \nL 9.421875 0 \nz\n\" id=\"DejaVuSans-108\"/>\n      </defs>\n      <use xlink:href=\"#DejaVuSans-82\"/>\n      <use x=\"64.982422\" xlink:href=\"#DejaVuSans-101\"/>\n      <use x=\"126.505859\" xlink:href=\"#DejaVuSans-97\"/>\n      <use x=\"187.785156\" xlink:href=\"#DejaVuSans-108\"/>\n      <use x=\"215.568359\" xlink:href=\"#DejaVuSans-32\"/>\n      <use x=\"247.355469\" xlink:href=\"#DejaVuSans-66\"/>\n      <use x=\"315.958984\" xlink:href=\"#DejaVuSans-105\"/>\n      <use x=\"343.742188\" xlink:href=\"#DejaVuSans-116\"/>\n      <use x=\"382.951172\" xlink:href=\"#DejaVuSans-99\"/>\n      <use x=\"437.931641\" xlink:href=\"#DejaVuSans-111\"/>\n      <use x=\"499.113281\" xlink:href=\"#DejaVuSans-105\"/>\n      <use x=\"526.896484\" xlink:href=\"#DejaVuSans-110\"/>\n      <use x=\"590.275391\" xlink:href=\"#DejaVuSans-32\"/>\n      <use x=\"622.0625\" xlink:href=\"#DejaVuSans-80\"/>\n      <use x=\"680.615234\" xlink:href=\"#DejaVuSans-114\"/>\n      <use x=\"721.728516\" xlink:href=\"#DejaVuSans-105\"/>\n      <use x=\"749.511719\" xlink:href=\"#DejaVuSans-99\"/>\n      <use x=\"804.492188\" xlink:href=\"#DejaVuSans-101\"/>\n     </g>\n    </g>\n    <g id=\"line2d_18\">\n     <path d=\"M 68.690625 50.094687 \nL 88.690625 50.094687 \n\" style=\"fill:none;stroke:#0000ff;stroke-linecap:square;stroke-width:1.5;\"/>\n    </g>\n    <g id=\"line2d_19\"/>\n    <g id=\"text_18\">\n     <!-- Predicted Bitcoin Price -->\n     <g transform=\"translate(96.690625 53.594687)scale(0.1 -0.1)\">\n      <use xlink:href=\"#DejaVuSans-80\"/>\n      <use x=\"58.552734\" xlink:href=\"#DejaVuSans-114\"/>\n      <use x=\"97.416016\" xlink:href=\"#DejaVuSans-101\"/>\n      <use x=\"158.939453\" xlink:href=\"#DejaVuSans-100\"/>\n      <use x=\"222.416016\" xlink:href=\"#DejaVuSans-105\"/>\n      <use x=\"250.199219\" xlink:href=\"#DejaVuSans-99\"/>\n      <use x=\"305.179688\" xlink:href=\"#DejaVuSans-116\"/>\n      <use x=\"344.388672\" xlink:href=\"#DejaVuSans-101\"/>\n      <use x=\"405.912109\" xlink:href=\"#DejaVuSans-100\"/>\n      <use x=\"469.388672\" xlink:href=\"#DejaVuSans-32\"/>\n      <use x=\"501.175781\" xlink:href=\"#DejaVuSans-66\"/>\n      <use x=\"569.779297\" xlink:href=\"#DejaVuSans-105\"/>\n      <use x=\"597.5625\" xlink:href=\"#DejaVuSans-116\"/>\n      <use x=\"636.771484\" xlink:href=\"#DejaVuSans-99\"/>\n      <use x=\"691.751953\" xlink:href=\"#DejaVuSans-111\"/>\n      <use x=\"752.933594\" xlink:href=\"#DejaVuSans-105\"/>\n      <use x=\"780.716797\" xlink:href=\"#DejaVuSans-110\"/>\n      <use x=\"844.095703\" xlink:href=\"#DejaVuSans-32\"/>\n      <use x=\"875.882812\" xlink:href=\"#DejaVuSans-80\"/>\n      <use x=\"934.435547\" xlink:href=\"#DejaVuSans-114\"/>\n      <use x=\"975.548828\" xlink:href=\"#DejaVuSans-105\"/>\n      <use x=\"1003.332031\" xlink:href=\"#DejaVuSans-99\"/>\n      <use x=\"1058.3125\" xlink:href=\"#DejaVuSans-101\"/>\n     </g>\n    </g>\n   </g>\n  </g>\n </g>\n <defs>\n  <clipPath id=\"p1b610bfbb0\">\n   <rect height=\"217.44\" width=\"334.8\" x=\"59.690625\" y=\"22.318125\"/>\n  </clipPath>\n </defs>\n</svg>\n",
      "image/png": "[encoded data removed]"
     },
     "metadata": {
      "needs_background": "light"
     }
    }
   ],
   "source": [
    "CRYPTOCURRENCY = \"Bitcoin\"\n",
    "\n",
    "INDEX_OF_CRYPTOCURRENCY = CRYPTOCURRENCY_INDEX[CRYPTOCURRENCY]\n",
    "\n",
    "test_cryptocurrency = []\n",
    "predict_cryptocurrency = []\n",
    "\n",
    "for i in range(TEST_SET_SIZE):\n",
    "  test_cryptocurrency.append(test_set[i, INDEX_OF_CRYPTOCURRENCY])\n",
    "  predict_cryptocurrency.append(predict[i, INDEX_OF_CRYPTOCURRENCY])\n",
    "\n",
    "plt.plot(test_cryptocurrency, color = 'red', label = 'Real ' + CRYPTOCURRENCY + ' Price')\n",
    "plt.plot(predict_cryptocurrency, color = 'blue', label = 'Predicted ' + CRYPTOCURRENCY + ' Price')\n",
    "plt.title(CRYPTOCURRENCY + ' Price Prediction')\n",
    "plt.xlabel('Time')\n",
    "plt.ylabel(CRYPTOCURRENCY + ' Price')\n",
    "plt.legend()\n",
    "plt.show()"
   ]
  }
 ]
}