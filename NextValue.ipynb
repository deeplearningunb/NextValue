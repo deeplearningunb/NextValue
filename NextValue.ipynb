{
 "metadata": {
  "language_info": {
   "codemirror_mode": {
    "name": "ipython",
    "version": 3
   },
   "file_extension": ".py",
   "mimetype": "text/x-python",
   "name": "python",
   "nbconvert_exporter": "python",
   "pygments_lexer": "ipython3",
   "version": "3.8.5-final"
  },
  "orig_nbformat": 2,
  "kernelspec": {
   "name": "python38564bit570eb4d9acac4cec972dc88884398646",
   "display_name": "Python 3.8.5 64-bit"
  },
  "metadata": {
   "interpreter": {
    "hash": "31f2aee4e71d21fbe5cf8b01ff0e069b9275f58929596ceb00d14d90e3e16cd6"
   }
  }
 },
 "nbformat": 4,
 "nbformat_minor": 2,
 "cells": [
  {
   "source": [
    "# NextValue"
   ],
   "cell_type": "markdown",
   "metadata": {}
  },
  {
   "source": [
    "## Bibliotecas Necessárias"
   ],
   "cell_type": "markdown",
   "metadata": {}
  },
  {
   "cell_type": "code",
   "execution_count": 1,
   "metadata": {},
   "outputs": [],
   "source": [
    "import pandas as pd\n",
    "from os import listdir\n",
    "from os.path import isfile, join\n",
    "import numpy as np\n",
    "import math\n",
    "from sklearn.preprocessing import MinMaxScaler"
   ]
  },
  {
   "source": [
    "## Processamento dos Dados"
   ],
   "cell_type": "markdown",
   "metadata": {}
  },
  {
   "source": [
    "### Importando o Dataset"
   ],
   "cell_type": "markdown",
   "metadata": {}
  },
  {
   "cell_type": "code",
   "execution_count": 2,
   "metadata": {},
   "outputs": [],
   "source": [
    "DATA_PATH = \"./Prices\"\n",
    "\n",
    "dataset_list = [f for f in listdir(DATA_PATH) if (isfile(join(DATA_PATH, f)) and f.endswith(\".csv\"))]\n",
    "dataset_list.sort()\n"
   ]
  },
  {
   "source": [
    "### Dados Necessários"
   ],
   "cell_type": "markdown",
   "metadata": {}
  },
  {
   "cell_type": "code",
   "execution_count": 3,
   "metadata": {},
   "outputs": [],
   "source": [
    "NUMBER_OF_CRYPTOCURRENCIES = len(dataset_list)\n",
    "\n",
    "cryptocurrency_list = [d[:-4] for d in dataset_list]\n",
    "index = [i for i in range(NUMBER_OF_CRYPTOCURRENCIES)]\n",
    "\n",
    "CRYPTOCURRENCY_INDEX = dict(zip(cryptocurrency_list, index))"
   ]
  },
  {
   "source": [
    "### Jutando os datasets"
   ],
   "cell_type": "markdown",
   "metadata": {}
  },
  {
   "cell_type": "code",
   "execution_count": 4,
   "metadata": {},
   "outputs": [],
   "source": [
    "dataset = pd.read_csv(DATA_PATH + \"/\" + dataset_list[0])\n",
    "dataset = dataset.iloc[:, 1:3]\n",
    "\n",
    "for i in range(1, NUMBER_OF_CRYPTOCURRENCIES):\n",
    "    file = pd.read_csv(DATA_PATH + \"/\" + dataset_list[i])\n",
    "    file = file.iloc[:, 1:3]\n",
    "    dataset = pd.merge(dataset, file, on='Date', how='outer')\n",
    "\n",
    "dataset = dataset.iloc[:, 1:NUMBER_OF_CRYPTOCURRENCIES+1]\n",
    "dataset = dataset.replace(np.nan, 0)"
   ]
  },
  {
   "source": [
    "### Dividindo o Dataset em TrainingSet e TestSet"
   ],
   "cell_type": "markdown",
   "metadata": {}
  },
  {
   "cell_type": "code",
   "execution_count": 5,
   "metadata": {},
   "outputs": [],
   "source": [
    "NUMBER_OF_ROWS = dataset.shape[0]\n",
    "TRAINING_RATE = 0.95\n",
    "TRAINING_SET_SIZE = math.ceil(NUMBER_OF_ROWS*TRAINING_RATE)\n",
    "TEST_SET_SIZE = NUMBER_OF_ROWS - TRAINING_SET_SIZE\n",
    "\n",
    "training_set = dataset.iloc[:TRAINING_SET_SIZE, : ].values\n",
    "test_set = dataset.iloc[TRAINING_SET_SIZE:, : ].values"
   ]
  },
  {
   "source": [
    "### Feature Scaling"
   ],
   "cell_type": "markdown",
   "metadata": {}
  },
  {
   "cell_type": "code",
   "execution_count": 6,
   "metadata": {},
   "outputs": [],
   "source": [
    "sc = MinMaxScaler(feature_range = (0, 1))\n",
    "training_set_scaled = sc.fit_transform(training_set)"
   ]
  },
  {
   "source": [
    "### Construindo a Estrutura de Dados"
   ],
   "cell_type": "markdown",
   "metadata": {}
  },
  {
   "cell_type": "code",
   "execution_count": 7,
   "metadata": {},
   "outputs": [],
   "source": [
    "DIAS_ANTERIORES = 30\n",
    "\n",
    "X_train = []\n",
    "y_train = []\n",
    "for i in range(DIAS_ANTERIORES, TRAINING_SET_SIZE):\n",
    "    X_train.append(training_set_scaled[i-DIAS_ANTERIORES:i, 0:NUMBER_OF_CRYPTOCURRENCIES])\n",
    "    y_train.append(training_set_scaled[i, 0:NUMBER_OF_CRYPTOCURRENCIES])\n",
    "\n",
    "X_train, y_train = np.array(X_train), np.array(y_train)"
   ]
  },
  {
   "source": [
    "### Reshaping"
   ],
   "cell_type": "markdown",
   "metadata": {}
  },
  {
   "cell_type": "code",
   "execution_count": 8,
   "metadata": {},
   "outputs": [],
   "source": [
    "X_train = X_train.reshape((X_train.shape[0], X_train.shape[1], NUMBER_OF_CRYPTOCURRENCIES))"
   ]
  }
 ]
}